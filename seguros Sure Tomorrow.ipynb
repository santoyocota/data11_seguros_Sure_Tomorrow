{
 "cells": [
  {
   "cell_type": "markdown",
   "metadata": {},
   "source": [
    "----"
   ]
  },
  {
   "cell_type": "markdown",
   "metadata": {},
   "source": [
    "# Descripción"
   ]
  },
  {
   "cell_type": "markdown",
   "metadata": {},
   "source": [
    "La compañía de seguros Sure Tomorrow quiere resolver varias tareas con la ayuda de machine learning y te pide que evalúes esa posibilidad.\n",
    "- Tarea 1: encontrar clientes que sean similares a un cliente determinado. Esto ayudará a los agentes de la compañía con el marketing.\n",
    "- Tarea 2: predecir la probabilidad de que un nuevo cliente reciba una prestación del seguro. ¿Puede un modelo de predictivo funcionar mejor que un modelo dummy?\n",
    "- Tarea 3: predecir el número de prestaciones de seguro que un nuevo cliente pueda recibir utilizando un modelo de regresión lineal.\n",
    "- Tarea 4: proteger los datos personales de los clientes sin afectar al modelo del ejercicio anterior. Es necesario desarrollar un algoritmo de transformación de datos que dificulte la recuperación de la información personal si los datos caen en manos equivocadas. Esto se denomina enmascaramiento u ofuscación de datos. Pero los datos deben protegerse de tal manera que no se vea afectada la calidad de los modelos de machine learning. No es necesario elegir el mejor modelo, basta con demostrar que el algoritmo funciona correctamente.\n"
   ]
  },
  {
   "cell_type": "markdown",
   "metadata": {},
   "source": [
    "# Preprocesamiento y exploración de datos\n",
    "\n",
    "## Inicialización"
   ]
  },
  {
   "cell_type": "code",
   "execution_count": 6,
   "metadata": {},
   "outputs": [
    {
     "name": "stdout",
     "output_type": "stream",
     "text": [
      "Note: you may need to restart the kernel to use updated packages.Requirement already satisfied: scikit-learn in c:\\users\\administrador\\anaconda3\\lib\\site-packages (1.2.2)\n",
      "Requirement already satisfied: numpy>=1.17.3 in c:\\users\\administrador\\anaconda3\\lib\\site-packages (from scikit-learn) (1.26.4)\n",
      "Requirement already satisfied: scipy>=1.3.2 in c:\\users\\administrador\\anaconda3\\lib\\site-packages (from scikit-learn) (1.11.4)\n",
      "Requirement already satisfied: joblib>=1.1.1 in c:\\users\\administrador\\anaconda3\\lib\\site-packages (from scikit-learn) (1.2.0)\n",
      "Requirement already satisfied: threadpoolctl>=2.0.0 in c:\\users\\administrador\\anaconda3\\lib\\site-packages (from scikit-learn) (2.2.0)\n",
      "\n"
     ]
    },
    {
     "name": "stderr",
     "output_type": "stream",
     "text": [
      "WARNING: Retrying (Retry(total=4, connect=None, read=None, redirect=None, status=None)) after connection broken by 'NewConnectionError('<pip._vendor.urllib3.connection.HTTPSConnection object at 0x0000019A75059510>: Failed to establish a new connection: [WinError 10061] No se puede establecer una conexión ya que el equipo de destino denegó expresamente dicha conexión')': /simple/scikit-learn/\n",
      "WARNING: Retrying (Retry(total=3, connect=None, read=None, redirect=None, status=None)) after connection broken by 'NewConnectionError('<pip._vendor.urllib3.connection.HTTPSConnection object at 0x0000019A78492990>: Failed to establish a new connection: [WinError 10061] No se puede establecer una conexión ya que el equipo de destino denegó expresamente dicha conexión')': /simple/scikit-learn/\n",
      "WARNING: Retrying (Retry(total=2, connect=None, read=None, redirect=None, status=None)) after connection broken by 'NewConnectionError('<pip._vendor.urllib3.connection.HTTPSConnection object at 0x0000019A78499E10>: Failed to establish a new connection: [WinError 10061] No se puede establecer una conexión ya que el equipo de destino denegó expresamente dicha conexión')': /simple/scikit-learn/\n",
      "WARNING: Retrying (Retry(total=1, connect=None, read=None, redirect=None, status=None)) after connection broken by 'NewConnectionError('<pip._vendor.urllib3.connection.HTTPSConnection object at 0x0000019A7849B6D0>: Failed to establish a new connection: [WinError 10061] No se puede establecer una conexión ya que el equipo de destino denegó expresamente dicha conexión')': /simple/scikit-learn/\n",
      "WARNING: Retrying (Retry(total=0, connect=None, read=None, redirect=None, status=None)) after connection broken by 'NewConnectionError('<pip._vendor.urllib3.connection.HTTPSConnection object at 0x0000019A784D4E10>: Failed to establish a new connection: [WinError 10061] No se puede establecer una conexión ya que el equipo de destino denegó expresamente dicha conexión')': /simple/scikit-learn/\n"
     ]
    }
   ],
   "source": [
    "pip install scikit-learn --upgrade"
   ]
  },
  {
   "cell_type": "code",
   "execution_count": 7,
   "metadata": {},
   "outputs": [],
   "source": [
    "import os\n",
    "import numpy as np\n",
    "import pandas as pd\n",
    "import math\n",
    "import seaborn as sns\n",
    "\n",
    "import sklearn.linear_model\n",
    "import sklearn.metrics\n",
    "import sklearn.neighbors\n",
    "import sklearn.preprocessing\n",
    "\n",
    "from sklearn.model_selection import train_test_split\n",
    "from sklearn.neighbors import NearestNeighbors\n",
    "\n",
    "from sklearn.preprocessing import MaxAbsScaler\n",
    "from sklearn.metrics import f1_score, confusion_matrix\n",
    "from sklearn.neighbors import KNeighborsClassifier\n",
    "\n",
    "\n",
    "from IPython.display import display"
   ]
  },
  {
   "cell_type": "markdown",
   "metadata": {},
   "source": [
    "## Carga de datos"
   ]
  },
  {
   "cell_type": "markdown",
   "metadata": {},
   "source": [
    "Carga los datos y haz una revisión básica para comprobar que no hay problemas obvios."
   ]
  },
  {
   "cell_type": "code",
   "execution_count": 8,
   "metadata": {},
   "outputs": [
    {
     "name": "stdout",
     "output_type": "stream",
     "text": [
      "Archivo cargado exitosamente desde 'datasets/insurance_us.csv'\n"
     ]
    }
   ],
   "source": [
    "#->datos\n",
    "# Leer el archivo y almacenarlo en df\n",
    "def cargar_archivos_con_separadores(archivos_con_separadores):\n",
    "    \"\"\"\n",
    "    Carga múltiples archivos CSV con separadores específicos para cada archivo y los almacena en un diccionario de DataFrames.\n",
    "    \n",
    "    :param archivos_con_separadores: Diccionario donde las claves son los nombres de los archivos y los valores son los separadores.\n",
    "    :return: Diccionario con nombres de archivos como claves y DataFrames como valores.\n",
    "    \"\"\"\n",
    "    df = {}  # Objeto que almacenará los DataFrames\n",
    "\n",
    "    # Iterar sobre los archivos y sus separadores\n",
    "    for archivo_nombre, separador in archivos_con_separadores.items():\n",
    "        url_no_windows = '/datasets/' + archivo_nombre\n",
    "        url_windows = 'datasets/' + archivo_nombre\n",
    "        \n",
    "        try:\n",
    "            # Intentar cargar desde la ruta no-Windows\n",
    "            if os.path.exists(url_no_windows):\n",
    "                df[archivo_nombre] = pd.read_csv(url_no_windows, sep=separador, dtype={'votes': 'Int64'})\n",
    "                print(f\"Archivo cargado exitosamente desde '{url_no_windows}'\")\n",
    "            \n",
    "            # Intentar cargar desde la ruta Windows\n",
    "            elif os.path.exists(url_windows):\n",
    "                df[archivo_nombre] = pd.read_csv(url_windows, sep=separador, dtype={'votes': 'Int64'})\n",
    "                print(f\"Archivo cargado exitosamente desde '{url_windows}'\")\n",
    "            \n",
    "            else:\n",
    "                raise FileNotFoundError(f\"Error: el archivo '{archivo_nombre}' no se encuentra en ninguna de las rutas especificadas.\")\n",
    "        \n",
    "        except FileNotFoundError as e:\n",
    "            print(e)\n",
    "        \n",
    "        except pd.errors.ParserError as e:\n",
    "            print(f\"Error al procesar el archivo CSV '{archivo_nombre}': {e}\")\n",
    "        \n",
    "        except Exception as e:\n",
    "            print(f\"Ha ocurrido un error inesperado con el archivo '{archivo_nombre}': {e}\")\n",
    "\n",
    "    return df\n",
    "\n",
    "# Ejemplo de uso\n",
    "archivos_con_separadores = {\n",
    "    'insurance_us.csv': ',',    \n",
    "}\n",
    "\n",
    "# Cargar los archivos en el objeto df\n",
    "df_all = cargar_archivos_con_separadores(archivos_con_separadores)\n",
    "\n",
    "# El objeto df ahora contiene un DataFrame por cada archivo cargado\n",
    "df = df_all.get('insurance_us.csv')\n"
   ]
  },
  {
   "cell_type": "markdown",
   "metadata": {},
   "source": [
    "Renombramos las columnas para que el código se vea más coherente con su estilo."
   ]
  },
  {
   "cell_type": "code",
   "execution_count": 9,
   "metadata": {},
   "outputs": [],
   "source": [
    "df = df.rename(columns={'Gender': 'gender', 'Age': 'age', 'Salary': 'income', 'Family members': 'family_members', 'Insurance benefits': 'insurance_benefits'})"
   ]
  },
  {
   "cell_type": "code",
   "execution_count": 10,
   "metadata": {},
   "outputs": [
    {
     "data": {
      "text/html": [
       "<div>\n",
       "<style scoped>\n",
       "    .dataframe tbody tr th:only-of-type {\n",
       "        vertical-align: middle;\n",
       "    }\n",
       "\n",
       "    .dataframe tbody tr th {\n",
       "        vertical-align: top;\n",
       "    }\n",
       "\n",
       "    .dataframe thead th {\n",
       "        text-align: right;\n",
       "    }\n",
       "</style>\n",
       "<table border=\"1\" class=\"dataframe\">\n",
       "  <thead>\n",
       "    <tr style=\"text-align: right;\">\n",
       "      <th></th>\n",
       "      <th>gender</th>\n",
       "      <th>age</th>\n",
       "      <th>income</th>\n",
       "      <th>family_members</th>\n",
       "      <th>insurance_benefits</th>\n",
       "    </tr>\n",
       "  </thead>\n",
       "  <tbody>\n",
       "    <tr>\n",
       "      <th>2961</th>\n",
       "      <td>1</td>\n",
       "      <td>22.0</td>\n",
       "      <td>41500.0</td>\n",
       "      <td>1</td>\n",
       "      <td>0</td>\n",
       "    </tr>\n",
       "    <tr>\n",
       "      <th>4898</th>\n",
       "      <td>1</td>\n",
       "      <td>28.0</td>\n",
       "      <td>39800.0</td>\n",
       "      <td>0</td>\n",
       "      <td>0</td>\n",
       "    </tr>\n",
       "    <tr>\n",
       "      <th>1098</th>\n",
       "      <td>1</td>\n",
       "      <td>21.0</td>\n",
       "      <td>33800.0</td>\n",
       "      <td>0</td>\n",
       "      <td>0</td>\n",
       "    </tr>\n",
       "    <tr>\n",
       "      <th>3743</th>\n",
       "      <td>1</td>\n",
       "      <td>26.0</td>\n",
       "      <td>26500.0</td>\n",
       "      <td>2</td>\n",
       "      <td>0</td>\n",
       "    </tr>\n",
       "    <tr>\n",
       "      <th>3279</th>\n",
       "      <td>0</td>\n",
       "      <td>27.0</td>\n",
       "      <td>41500.0</td>\n",
       "      <td>0</td>\n",
       "      <td>0</td>\n",
       "    </tr>\n",
       "    <tr>\n",
       "      <th>4670</th>\n",
       "      <td>0</td>\n",
       "      <td>34.0</td>\n",
       "      <td>35500.0</td>\n",
       "      <td>1</td>\n",
       "      <td>0</td>\n",
       "    </tr>\n",
       "    <tr>\n",
       "      <th>2545</th>\n",
       "      <td>0</td>\n",
       "      <td>44.0</td>\n",
       "      <td>38800.0</td>\n",
       "      <td>0</td>\n",
       "      <td>1</td>\n",
       "    </tr>\n",
       "    <tr>\n",
       "      <th>4272</th>\n",
       "      <td>0</td>\n",
       "      <td>47.0</td>\n",
       "      <td>33000.0</td>\n",
       "      <td>4</td>\n",
       "      <td>1</td>\n",
       "    </tr>\n",
       "    <tr>\n",
       "      <th>2555</th>\n",
       "      <td>1</td>\n",
       "      <td>21.0</td>\n",
       "      <td>42200.0</td>\n",
       "      <td>0</td>\n",
       "      <td>0</td>\n",
       "    </tr>\n",
       "    <tr>\n",
       "      <th>2580</th>\n",
       "      <td>0</td>\n",
       "      <td>23.0</td>\n",
       "      <td>29000.0</td>\n",
       "      <td>2</td>\n",
       "      <td>0</td>\n",
       "    </tr>\n",
       "  </tbody>\n",
       "</table>\n",
       "</div>"
      ],
      "text/plain": [
       "      gender   age   income  family_members  insurance_benefits\n",
       "2961       1  22.0  41500.0               1                   0\n",
       "4898       1  28.0  39800.0               0                   0\n",
       "1098       1  21.0  33800.0               0                   0\n",
       "3743       1  26.0  26500.0               2                   0\n",
       "3279       0  27.0  41500.0               0                   0\n",
       "4670       0  34.0  35500.0               1                   0\n",
       "2545       0  44.0  38800.0               0                   1\n",
       "4272       0  47.0  33000.0               4                   1\n",
       "2555       1  21.0  42200.0               0                   0\n",
       "2580       0  23.0  29000.0               2                   0"
      ]
     },
     "execution_count": 10,
     "metadata": {},
     "output_type": "execute_result"
    }
   ],
   "source": [
    "df.sample(10)"
   ]
  },
  {
   "cell_type": "code",
   "execution_count": 11,
   "metadata": {},
   "outputs": [
    {
     "name": "stdout",
     "output_type": "stream",
     "text": [
      "<class 'pandas.core.frame.DataFrame'>\n",
      "RangeIndex: 5000 entries, 0 to 4999\n",
      "Data columns (total 5 columns):\n",
      " #   Column              Non-Null Count  Dtype  \n",
      "---  ------              --------------  -----  \n",
      " 0   gender              5000 non-null   int64  \n",
      " 1   age                 5000 non-null   float64\n",
      " 2   income              5000 non-null   float64\n",
      " 3   family_members      5000 non-null   int64  \n",
      " 4   insurance_benefits  5000 non-null   int64  \n",
      "dtypes: float64(2), int64(3)\n",
      "memory usage: 195.4 KB\n"
     ]
    }
   ],
   "source": [
    "df.info()"
   ]
  },
  {
   "cell_type": "code",
   "execution_count": 12,
   "metadata": {},
   "outputs": [
    {
     "name": "stdout",
     "output_type": "stream",
     "text": [
      "<class 'pandas.core.frame.DataFrame'>\n",
      "RangeIndex: 5000 entries, 0 to 4999\n",
      "Data columns (total 5 columns):\n",
      " #   Column              Non-Null Count  Dtype  \n",
      "---  ------              --------------  -----  \n",
      " 0   gender              5000 non-null   int64  \n",
      " 1   age                 5000 non-null   int32  \n",
      " 2   income              5000 non-null   float64\n",
      " 3   family_members      5000 non-null   int64  \n",
      " 4   insurance_benefits  5000 non-null   int64  \n",
      "dtypes: float64(1), int32(1), int64(3)\n",
      "memory usage: 175.9 KB\n"
     ]
    }
   ],
   "source": [
    "# puede que queramos cambiar el tipo de edad (de float a int) aunque esto no es crucial\n",
    "\n",
    "# escribe tu conversión aquí si lo deseas:\n",
    "\n",
    "# Convertir la columna 'age' de float a int\n",
    "df['age'] = df['age'].astype(int)\n",
    "df.info()"
   ]
  },
  {
   "cell_type": "code",
   "execution_count": 13,
   "metadata": {},
   "outputs": [],
   "source": [
    "# ahora echa un vistazo a las estadísticas descriptivas de los datos.# ¿Se ve todo bien?"
   ]
  },
  {
   "cell_type": "code",
   "execution_count": 14,
   "metadata": {},
   "outputs": [
    {
     "data": {
      "text/html": [
       "<div>\n",
       "<style scoped>\n",
       "    .dataframe tbody tr th:only-of-type {\n",
       "        vertical-align: middle;\n",
       "    }\n",
       "\n",
       "    .dataframe tbody tr th {\n",
       "        vertical-align: top;\n",
       "    }\n",
       "\n",
       "    .dataframe thead th {\n",
       "        text-align: right;\n",
       "    }\n",
       "</style>\n",
       "<table border=\"1\" class=\"dataframe\">\n",
       "  <thead>\n",
       "    <tr style=\"text-align: right;\">\n",
       "      <th></th>\n",
       "      <th>gender</th>\n",
       "      <th>age</th>\n",
       "      <th>income</th>\n",
       "      <th>family_members</th>\n",
       "      <th>insurance_benefits</th>\n",
       "    </tr>\n",
       "  </thead>\n",
       "  <tbody>\n",
       "    <tr>\n",
       "      <th>count</th>\n",
       "      <td>5000.000000</td>\n",
       "      <td>5000.000000</td>\n",
       "      <td>5000.000000</td>\n",
       "      <td>5000.000000</td>\n",
       "      <td>5000.000000</td>\n",
       "    </tr>\n",
       "    <tr>\n",
       "      <th>mean</th>\n",
       "      <td>0.499000</td>\n",
       "      <td>30.952800</td>\n",
       "      <td>39916.360000</td>\n",
       "      <td>1.194200</td>\n",
       "      <td>0.148000</td>\n",
       "    </tr>\n",
       "    <tr>\n",
       "      <th>std</th>\n",
       "      <td>0.500049</td>\n",
       "      <td>8.440807</td>\n",
       "      <td>9900.083569</td>\n",
       "      <td>1.091387</td>\n",
       "      <td>0.463183</td>\n",
       "    </tr>\n",
       "    <tr>\n",
       "      <th>min</th>\n",
       "      <td>0.000000</td>\n",
       "      <td>18.000000</td>\n",
       "      <td>5300.000000</td>\n",
       "      <td>0.000000</td>\n",
       "      <td>0.000000</td>\n",
       "    </tr>\n",
       "    <tr>\n",
       "      <th>25%</th>\n",
       "      <td>0.000000</td>\n",
       "      <td>24.000000</td>\n",
       "      <td>33300.000000</td>\n",
       "      <td>0.000000</td>\n",
       "      <td>0.000000</td>\n",
       "    </tr>\n",
       "    <tr>\n",
       "      <th>50%</th>\n",
       "      <td>0.000000</td>\n",
       "      <td>30.000000</td>\n",
       "      <td>40200.000000</td>\n",
       "      <td>1.000000</td>\n",
       "      <td>0.000000</td>\n",
       "    </tr>\n",
       "    <tr>\n",
       "      <th>75%</th>\n",
       "      <td>1.000000</td>\n",
       "      <td>37.000000</td>\n",
       "      <td>46600.000000</td>\n",
       "      <td>2.000000</td>\n",
       "      <td>0.000000</td>\n",
       "    </tr>\n",
       "    <tr>\n",
       "      <th>max</th>\n",
       "      <td>1.000000</td>\n",
       "      <td>65.000000</td>\n",
       "      <td>79000.000000</td>\n",
       "      <td>6.000000</td>\n",
       "      <td>5.000000</td>\n",
       "    </tr>\n",
       "  </tbody>\n",
       "</table>\n",
       "</div>"
      ],
      "text/plain": [
       "            gender          age        income  family_members  \\\n",
       "count  5000.000000  5000.000000   5000.000000     5000.000000   \n",
       "mean      0.499000    30.952800  39916.360000        1.194200   \n",
       "std       0.500049     8.440807   9900.083569        1.091387   \n",
       "min       0.000000    18.000000   5300.000000        0.000000   \n",
       "25%       0.000000    24.000000  33300.000000        0.000000   \n",
       "50%       0.000000    30.000000  40200.000000        1.000000   \n",
       "75%       1.000000    37.000000  46600.000000        2.000000   \n",
       "max       1.000000    65.000000  79000.000000        6.000000   \n",
       "\n",
       "       insurance_benefits  \n",
       "count         5000.000000  \n",
       "mean             0.148000  \n",
       "std              0.463183  \n",
       "min              0.000000  \n",
       "25%              0.000000  \n",
       "50%              0.000000  \n",
       "75%              0.000000  \n",
       "max              5.000000  "
      ]
     },
     "execution_count": 14,
     "metadata": {},
     "output_type": "execute_result"
    }
   ],
   "source": [
    "df.describe()"
   ]
  },
  {
   "cell_type": "markdown",
   "metadata": {},
   "source": [
    "los datos pmbarcen estar en buen estado, seria pertinente revisar las columnas \"age\", \"income\" y \"family_members\", ya que podrian contener valores atipicos, dado a que la desviacion estandar de los datos es alta."
   ]
  },
  {
   "cell_type": "markdown",
   "metadata": {},
   "source": [
    "## Análisis exploratorio de datos"
   ]
  },
  {
   "cell_type": "markdown",
   "metadata": {},
   "source": [
    "Vamos a comprobar rápidamente si existen determinados grupos de clientes observando el gráfico de pares."
   ]
  },
  {
   "cell_type": "code",
   "execution_count": 15,
   "metadata": {},
   "outputs": [
    {
     "name": "stderr",
     "output_type": "stream",
     "text": [
      "c:\\Users\\Administrador\\anaconda3\\Lib\\site-packages\\seaborn\\_oldcore.py:1119: FutureWarning: use_inf_as_na option is deprecated and will be removed in a future version. Convert inf values to NaN before operating instead.\n",
      "  with pd.option_context('mode.use_inf_as_na', True):\n",
      "c:\\Users\\Administrador\\anaconda3\\Lib\\site-packages\\seaborn\\_oldcore.py:1119: FutureWarning: use_inf_as_na option is deprecated and will be removed in a future version. Convert inf values to NaN before operating instead.\n",
      "  with pd.option_context('mode.use_inf_as_na', True):\n",
      "c:\\Users\\Administrador\\anaconda3\\Lib\\site-packages\\seaborn\\_oldcore.py:1119: FutureWarning: use_inf_as_na option is deprecated and will be removed in a future version. Convert inf values to NaN before operating instead.\n",
      "  with pd.option_context('mode.use_inf_as_na', True):\n",
      "c:\\Users\\Administrador\\anaconda3\\Lib\\site-packages\\seaborn\\_oldcore.py:1119: FutureWarning: use_inf_as_na option is deprecated and will be removed in a future version. Convert inf values to NaN before operating instead.\n",
      "  with pd.option_context('mode.use_inf_as_na', True):\n",
      "c:\\Users\\Administrador\\anaconda3\\Lib\\site-packages\\seaborn\\_oldcore.py:1119: FutureWarning: use_inf_as_na option is deprecated and will be removed in a future version. Convert inf values to NaN before operating instead.\n",
      "  with pd.option_context('mode.use_inf_as_na', True):\n",
      "c:\\Users\\Administrador\\anaconda3\\Lib\\site-packages\\seaborn\\_oldcore.py:1119: FutureWarning: use_inf_as_na option is deprecated and will be removed in a future version. Convert inf values to NaN before operating instead.\n",
      "  with pd.option_context('mode.use_inf_as_na', True):\n",
      "c:\\Users\\Administrador\\anaconda3\\Lib\\site-packages\\seaborn\\_oldcore.py:1119: FutureWarning: use_inf_as_na option is deprecated and will be removed in a future version. Convert inf values to NaN before operating instead.\n",
      "  with pd.option_context('mode.use_inf_as_na', True):\n",
      "c:\\Users\\Administrador\\anaconda3\\Lib\\site-packages\\seaborn\\_oldcore.py:1119: FutureWarning: use_inf_as_na option is deprecated and will be removed in a future version. Convert inf values to NaN before operating instead.\n",
      "  with pd.option_context('mode.use_inf_as_na', True):\n",
      "c:\\Users\\Administrador\\anaconda3\\Lib\\site-packages\\seaborn\\_oldcore.py:1119: FutureWarning: use_inf_as_na option is deprecated and will be removed in a future version. Convert inf values to NaN before operating instead.\n",
      "  with pd.option_context('mode.use_inf_as_na', True):\n",
      "c:\\Users\\Administrador\\anaconda3\\Lib\\site-packages\\seaborn\\_oldcore.py:1119: FutureWarning: use_inf_as_na option is deprecated and will be removed in a future version. Convert inf values to NaN before operating instead.\n",
      "  with pd.option_context('mode.use_inf_as_na', True):\n",
      "c:\\Users\\Administrador\\anaconda3\\Lib\\site-packages\\seaborn\\_oldcore.py:1119: FutureWarning: use_inf_as_na option is deprecated and will be removed in a future version. Convert inf values to NaN before operating instead.\n",
      "  with pd.option_context('mode.use_inf_as_na', True):\n",
      "c:\\Users\\Administrador\\anaconda3\\Lib\\site-packages\\seaborn\\_oldcore.py:1119: FutureWarning: use_inf_as_na option is deprecated and will be removed in a future version. Convert inf values to NaN before operating instead.\n",
      "  with pd.option_context('mode.use_inf_as_na', True):\n",
      "c:\\Users\\Administrador\\anaconda3\\Lib\\site-packages\\seaborn\\_oldcore.py:1119: FutureWarning: use_inf_as_na option is deprecated and will be removed in a future version. Convert inf values to NaN before operating instead.\n",
      "  with pd.option_context('mode.use_inf_as_na', True):\n",
      "c:\\Users\\Administrador\\anaconda3\\Lib\\site-packages\\seaborn\\_oldcore.py:1119: FutureWarning: use_inf_as_na option is deprecated and will be removed in a future version. Convert inf values to NaN before operating instead.\n",
      "  with pd.option_context('mode.use_inf_as_na', True):\n",
      "c:\\Users\\Administrador\\anaconda3\\Lib\\site-packages\\seaborn\\_oldcore.py:1119: FutureWarning: use_inf_as_na option is deprecated and will be removed in a future version. Convert inf values to NaN before operating instead.\n",
      "  with pd.option_context('mode.use_inf_as_na', True):\n",
      "c:\\Users\\Administrador\\anaconda3\\Lib\\site-packages\\seaborn\\_oldcore.py:1119: FutureWarning: use_inf_as_na option is deprecated and will be removed in a future version. Convert inf values to NaN before operating instead.\n",
      "  with pd.option_context('mode.use_inf_as_na', True):\n",
      "c:\\Users\\Administrador\\anaconda3\\Lib\\site-packages\\seaborn\\_oldcore.py:1119: FutureWarning: use_inf_as_na option is deprecated and will be removed in a future version. Convert inf values to NaN before operating instead.\n",
      "  with pd.option_context('mode.use_inf_as_na', True):\n",
      "c:\\Users\\Administrador\\anaconda3\\Lib\\site-packages\\seaborn\\_oldcore.py:1119: FutureWarning: use_inf_as_na option is deprecated and will be removed in a future version. Convert inf values to NaN before operating instead.\n",
      "  with pd.option_context('mode.use_inf_as_na', True):\n",
      "c:\\Users\\Administrador\\anaconda3\\Lib\\site-packages\\seaborn\\_oldcore.py:1119: FutureWarning: use_inf_as_na option is deprecated and will be removed in a future version. Convert inf values to NaN before operating instead.\n",
      "  with pd.option_context('mode.use_inf_as_na', True):\n",
      "c:\\Users\\Administrador\\anaconda3\\Lib\\site-packages\\seaborn\\_oldcore.py:1119: FutureWarning: use_inf_as_na option is deprecated and will be removed in a future version. Convert inf values to NaN before operating instead.\n",
      "  with pd.option_context('mode.use_inf_as_na', True):\n",
      "c:\\Users\\Administrador\\anaconda3\\Lib\\site-packages\\seaborn\\_oldcore.py:1119: FutureWarning: use_inf_as_na option is deprecated and will be removed in a future version. Convert inf values to NaN before operating instead.\n",
      "  with pd.option_context('mode.use_inf_as_na', True):\n",
      "c:\\Users\\Administrador\\anaconda3\\Lib\\site-packages\\seaborn\\_oldcore.py:1119: FutureWarning: use_inf_as_na option is deprecated and will be removed in a future version. Convert inf values to NaN before operating instead.\n",
      "  with pd.option_context('mode.use_inf_as_na', True):\n",
      "c:\\Users\\Administrador\\anaconda3\\Lib\\site-packages\\seaborn\\_oldcore.py:1119: FutureWarning: use_inf_as_na option is deprecated and will be removed in a future version. Convert inf values to NaN before operating instead.\n",
      "  with pd.option_context('mode.use_inf_as_na', True):\n",
      "c:\\Users\\Administrador\\anaconda3\\Lib\\site-packages\\seaborn\\_oldcore.py:1119: FutureWarning: use_inf_as_na option is deprecated and will be removed in a future version. Convert inf values to NaN before operating instead.\n",
      "  with pd.option_context('mode.use_inf_as_na', True):\n",
      "c:\\Users\\Administrador\\anaconda3\\Lib\\site-packages\\seaborn\\_oldcore.py:1119: FutureWarning: use_inf_as_na option is deprecated and will be removed in a future version. Convert inf values to NaN before operating instead.\n",
      "  with pd.option_context('mode.use_inf_as_na', True):\n",
      "c:\\Users\\Administrador\\anaconda3\\Lib\\site-packages\\seaborn\\_oldcore.py:1119: FutureWarning: use_inf_as_na option is deprecated and will be removed in a future version. Convert inf values to NaN before operating instead.\n",
      "  with pd.option_context('mode.use_inf_as_na', True):\n",
      "c:\\Users\\Administrador\\anaconda3\\Lib\\site-packages\\seaborn\\_oldcore.py:1119: FutureWarning: use_inf_as_na option is deprecated and will be removed in a future version. Convert inf values to NaN before operating instead.\n",
      "  with pd.option_context('mode.use_inf_as_na', True):\n",
      "c:\\Users\\Administrador\\anaconda3\\Lib\\site-packages\\seaborn\\_oldcore.py:1119: FutureWarning: use_inf_as_na option is deprecated and will be removed in a future version. Convert inf values to NaN before operating instead.\n",
      "  with pd.option_context('mode.use_inf_as_na', True):\n",
      "c:\\Users\\Administrador\\anaconda3\\Lib\\site-packages\\seaborn\\_oldcore.py:1119: FutureWarning: use_inf_as_na option is deprecated and will be removed in a future version. Convert inf values to NaN before operating instead.\n",
      "  with pd.option_context('mode.use_inf_as_na', True):\n",
      "c:\\Users\\Administrador\\anaconda3\\Lib\\site-packages\\seaborn\\_oldcore.py:1119: FutureWarning: use_inf_as_na option is deprecated and will be removed in a future version. Convert inf values to NaN before operating instead.\n",
      "  with pd.option_context('mode.use_inf_as_na', True):\n",
      "c:\\Users\\Administrador\\anaconda3\\Lib\\site-packages\\seaborn\\_oldcore.py:1119: FutureWarning: use_inf_as_na option is deprecated and will be removed in a future version. Convert inf values to NaN before operating instead.\n",
      "  with pd.option_context('mode.use_inf_as_na', True):\n",
      "c:\\Users\\Administrador\\anaconda3\\Lib\\site-packages\\seaborn\\_oldcore.py:1119: FutureWarning: use_inf_as_na option is deprecated and will be removed in a future version. Convert inf values to NaN before operating instead.\n",
      "  with pd.option_context('mode.use_inf_as_na', True):\n",
      "c:\\Users\\Administrador\\anaconda3\\Lib\\site-packages\\seaborn\\_oldcore.py:1119: FutureWarning: use_inf_as_na option is deprecated and will be removed in a future version. Convert inf values to NaN before operating instead.\n",
      "  with pd.option_context('mode.use_inf_as_na', True):\n",
      "c:\\Users\\Administrador\\anaconda3\\Lib\\site-packages\\seaborn\\_oldcore.py:1119: FutureWarning: use_inf_as_na option is deprecated and will be removed in a future version. Convert inf values to NaN before operating instead.\n",
      "  with pd.option_context('mode.use_inf_as_na', True):\n",
      "c:\\Users\\Administrador\\anaconda3\\Lib\\site-packages\\seaborn\\_oldcore.py:1119: FutureWarning: use_inf_as_na option is deprecated and will be removed in a future version. Convert inf values to NaN before operating instead.\n",
      "  with pd.option_context('mode.use_inf_as_na', True):\n",
      "c:\\Users\\Administrador\\anaconda3\\Lib\\site-packages\\seaborn\\_oldcore.py:1119: FutureWarning: use_inf_as_na option is deprecated and will be removed in a future version. Convert inf values to NaN before operating instead.\n",
      "  with pd.option_context('mode.use_inf_as_na', True):\n",
      "c:\\Users\\Administrador\\anaconda3\\Lib\\site-packages\\seaborn\\_oldcore.py:1119: FutureWarning: use_inf_as_na option is deprecated and will be removed in a future version. Convert inf values to NaN before operating instead.\n",
      "  with pd.option_context('mode.use_inf_as_na', True):\n",
      "c:\\Users\\Administrador\\anaconda3\\Lib\\site-packages\\seaborn\\_oldcore.py:1119: FutureWarning: use_inf_as_na option is deprecated and will be removed in a future version. Convert inf values to NaN before operating instead.\n",
      "  with pd.option_context('mode.use_inf_as_na', True):\n",
      "c:\\Users\\Administrador\\anaconda3\\Lib\\site-packages\\seaborn\\_oldcore.py:1119: FutureWarning: use_inf_as_na option is deprecated and will be removed in a future version. Convert inf values to NaN before operating instead.\n",
      "  with pd.option_context('mode.use_inf_as_na', True):\n",
      "c:\\Users\\Administrador\\anaconda3\\Lib\\site-packages\\seaborn\\_oldcore.py:1119: FutureWarning: use_inf_as_na option is deprecated and will be removed in a future version. Convert inf values to NaN before operating instead.\n",
      "  with pd.option_context('mode.use_inf_as_na', True):\n",
      "c:\\Users\\Administrador\\anaconda3\\Lib\\site-packages\\seaborn\\_oldcore.py:1119: FutureWarning: use_inf_as_na option is deprecated and will be removed in a future version. Convert inf values to NaN before operating instead.\n",
      "  with pd.option_context('mode.use_inf_as_na', True):\n",
      "c:\\Users\\Administrador\\anaconda3\\Lib\\site-packages\\seaborn\\_oldcore.py:1119: FutureWarning: use_inf_as_na option is deprecated and will be removed in a future version. Convert inf values to NaN before operating instead.\n",
      "  with pd.option_context('mode.use_inf_as_na', True):\n",
      "c:\\Users\\Administrador\\anaconda3\\Lib\\site-packages\\seaborn\\_oldcore.py:1119: FutureWarning: use_inf_as_na option is deprecated and will be removed in a future version. Convert inf values to NaN before operating instead.\n",
      "  with pd.option_context('mode.use_inf_as_na', True):\n",
      "c:\\Users\\Administrador\\anaconda3\\Lib\\site-packages\\seaborn\\_oldcore.py:1119: FutureWarning: use_inf_as_na option is deprecated and will be removed in a future version. Convert inf values to NaN before operating instead.\n",
      "  with pd.option_context('mode.use_inf_as_na', True):\n",
      "c:\\Users\\Administrador\\anaconda3\\Lib\\site-packages\\seaborn\\_oldcore.py:1119: FutureWarning: use_inf_as_na option is deprecated and will be removed in a future version. Convert inf values to NaN before operating instead.\n",
      "  with pd.option_context('mode.use_inf_as_na', True):\n"
     ]
    },
    {
     "data": {
      "image/png": "[encoded data removed]",
      "text/plain": [
       "<Figure size 1200x1200 with 30 Axes>"
      ]
     },
     "metadata": {},
     "output_type": "display_data"
    }
   ],
   "source": [
    "g = sns.pairplot(df, kind='hist')\n",
    "g.fig.set_size_inches(12, 12)"
   ]
  },
  {
   "cell_type": "markdown",
   "metadata": {},
   "source": [
    "De acuerdo, es un poco complicado detectar grupos obvios (clústeres) ya que es difícil combinar diversas variables simultáneamente (para analizar distribuciones multivariadas). Ahí es donde LA y ML pueden ser bastante útiles."
   ]
  },
  {
   "cell_type": "markdown",
   "metadata": {},
   "source": [
    "# Tarea 1. Clientes similares"
   ]
  },
  {
   "cell_type": "markdown",
   "metadata": {},
   "source": [
    "En el lenguaje de ML, es necesario desarrollar un procedimiento que devuelva los k vecinos más cercanos (objetos) para un objeto dado basándose en la distancia entre los objetos.\n",
    "Es posible que quieras revisar las siguientes lecciones (capítulo -> lección)- Distancia entre vectores -> Distancia euclidiana\n",
    "- Distancia entre vectores -> Distancia Manhattan\n",
    "\n",
    "Para resolver la tarea, podemos probar diferentes métricas de distancia."
   ]
  },
  {
   "cell_type": "markdown",
   "metadata": {},
   "source": [
    "Escribe una función que devuelva los k vecinos más cercanos para un $n^{th}$ objeto basándose en una métrica de distancia especificada. A la hora de realizar esta tarea no debe tenerse en cuenta el número de prestaciones de seguro recibidas.\n",
    "Puedes utilizar una implementación ya existente del algoritmo kNN de scikit-learn (consulta [el enlace](https://scikit-learn.org/stable/modules/generated/sklearn.neighbors.NearestNeighbors.html#sklearn.neighbors.NearestNeighbors)) o tu propia implementación.\n",
    "Pruébalo para cuatro combinaciones de dos casos- Escalado\n",
    "  - los datos no están escalados\n",
    "  - los datos se escalan con el escalador [MaxAbsScaler](https://scikit-learn.org/stable/modules/generated/sklearn.preprocessing.MaxAbsScaler.html)\n",
    "- Métricas de distancia\n",
    "  - Euclidiana\n",
    "  - Manhattan\n",
    "\n",
    "Responde a estas preguntas:- ¿El hecho de que los datos no estén escalados afecta al algoritmo kNN? Si es así, ¿cómo se manifiesta?- ¿Qué tan similares son los resultados al utilizar la métrica de distancia Manhattan (independientemente del escalado)?"
   ]
  },
  {
   "cell_type": "code",
   "execution_count": 16,
   "metadata": {},
   "outputs": [],
   "source": [
    "feature_names = ['gender', 'age', 'income', 'family_members']"
   ]
  },
  {
   "cell_type": "code",
   "execution_count": 17,
   "metadata": {},
   "outputs": [],
   "source": [
    "def get_knn(df, n, k, metric):\n",
    "    \n",
    "    \"\"\"\n",
    "    Devuelve los k vecinos más cercanos\n",
    "\n",
    "    :param df: DataFrame de pandas utilizado para encontrar objetos similares dentro del mismo lugar    :param n: número de objetos para los que se buscan los vecinos más cercanos    :param k: número de vecinos más cercanos a devolver\n",
    "    :param métrica: nombre de la métrica de distancia    \"\"\"\n",
    "\n",
    "    # Crear y ajustar el modelo NearestNeighbors\n",
    "    nbrs = NearestNeighbors(n_neighbors=k, metric=metric)\n",
    "    nbrs.fit(df[feature_names].values)\n",
    "    \n",
    "    nbrs_distances, nbrs_indices = nbrs.kneighbors([df.iloc[n][feature_names]], k, return_distance=True)\n",
    "    \n",
    "    df_res = pd.concat([\n",
    "        df.iloc[nbrs_indices[0]], \n",
    "        pd.DataFrame(nbrs_distances.T, index=nbrs_indices[0], columns=['distance'])\n",
    "        ], axis=1)\n",
    "    \n",
    "    return df_res"
   ]
  },
  {
   "cell_type": "markdown",
   "metadata": {},
   "source": [
    "Escalar datos."
   ]
  },
  {
   "cell_type": "code",
   "execution_count": 18,
   "metadata": {},
   "outputs": [],
   "source": [
    "feature_names = ['gender', 'age', 'income', 'family_members']\n",
    "\n",
    "transformer_mas = sklearn.preprocessing.MaxAbsScaler().fit(df[feature_names].to_numpy())\n",
    "\n",
    "df_scaled = df.copy()\n",
    "df_scaled.loc[:, feature_names] = transformer_mas.transform(df[feature_names].to_numpy())"
   ]
  },
  {
   "cell_type": "code",
   "execution_count": 19,
   "metadata": {},
   "outputs": [
    {
     "data": {
      "text/html": [
       "<div>\n",
       "<style scoped>\n",
       "    .dataframe tbody tr th:only-of-type {\n",
       "        vertical-align: middle;\n",
       "    }\n",
       "\n",
       "    .dataframe tbody tr th {\n",
       "        vertical-align: top;\n",
       "    }\n",
       "\n",
       "    .dataframe thead th {\n",
       "        text-align: right;\n",
       "    }\n",
       "</style>\n",
       "<table border=\"1\" class=\"dataframe\">\n",
       "  <thead>\n",
       "    <tr style=\"text-align: right;\">\n",
       "      <th></th>\n",
       "      <th>gender</th>\n",
       "      <th>age</th>\n",
       "      <th>income</th>\n",
       "      <th>family_members</th>\n",
       "      <th>insurance_benefits</th>\n",
       "    </tr>\n",
       "  </thead>\n",
       "  <tbody>\n",
       "    <tr>\n",
       "      <th>1945</th>\n",
       "      <td>1</td>\n",
       "      <td>0.476923</td>\n",
       "      <td>0.463291</td>\n",
       "      <td>0.500000</td>\n",
       "      <td>0</td>\n",
       "    </tr>\n",
       "    <tr>\n",
       "      <th>3977</th>\n",
       "      <td>1</td>\n",
       "      <td>0.492308</td>\n",
       "      <td>0.526582</td>\n",
       "      <td>0.166667</td>\n",
       "      <td>0</td>\n",
       "    </tr>\n",
       "    <tr>\n",
       "      <th>2360</th>\n",
       "      <td>1</td>\n",
       "      <td>0.615385</td>\n",
       "      <td>0.554430</td>\n",
       "      <td>0.000000</td>\n",
       "      <td>0</td>\n",
       "    </tr>\n",
       "    <tr>\n",
       "      <th>2992</th>\n",
       "      <td>0</td>\n",
       "      <td>0.723077</td>\n",
       "      <td>0.479747</td>\n",
       "      <td>0.000000</td>\n",
       "      <td>1</td>\n",
       "    </tr>\n",
       "    <tr>\n",
       "      <th>2291</th>\n",
       "      <td>0</td>\n",
       "      <td>0.615385</td>\n",
       "      <td>0.344304</td>\n",
       "      <td>0.166667</td>\n",
       "      <td>0</td>\n",
       "    </tr>\n",
       "  </tbody>\n",
       "</table>\n",
       "</div>"
      ],
      "text/plain": [
       "      gender       age    income  family_members  insurance_benefits\n",
       "1945       1  0.476923  0.463291        0.500000                   0\n",
       "3977       1  0.492308  0.526582        0.166667                   0\n",
       "2360       1  0.615385  0.554430        0.000000                   0\n",
       "2992       0  0.723077  0.479747        0.000000                   1\n",
       "2291       0  0.615385  0.344304        0.166667                   0"
      ]
     },
     "execution_count": 19,
     "metadata": {},
     "output_type": "execute_result"
    }
   ],
   "source": [
    "df_scaled.sample(5)"
   ]
  },
  {
   "cell_type": "markdown",
   "metadata": {},
   "source": [
    "Ahora, vamos a obtener registros similares para uno determinado, para cada combinación"
   ]
  },
  {
   "cell_type": "code",
   "execution_count": 20,
   "metadata": {},
   "outputs": [
    {
     "name": "stdout",
     "output_type": "stream",
     "text": [
      "Vecinos más cercanos con datos escalados usando MaxAbsScaler:\n",
      "\n"
     ]
    }
   ],
   "source": [
    "# Probar la función get_knn con diferentes métricas y datos escalados\n",
    "print(\"Vecinos más cercanos con datos escalados usando MaxAbsScaler:\\n\")"
   ]
  },
  {
   "cell_type": "code",
   "execution_count": 21,
   "metadata": {},
   "outputs": [
    {
     "name": "stdout",
     "output_type": "stream",
     "text": [
      "Metrica Euclidiana:\n",
      "       gender       age    income  family_members  insurance_benefits  distance\n",
      "0          1  0.630769  0.627848        0.166667                   0  0.000000\n",
      "2689       1  0.630769  0.634177        0.166667                   0  0.006329\n",
      "133        1  0.615385  0.636709        0.166667                   0  0.017754\n"
     ]
    }
   ],
   "source": [
    "print(\"Metrica Euclidiana:\\n\", get_knn(df_scaled, 0, 3, 'euclidean'))\n"
   ]
  },
  {
   "cell_type": "code",
   "execution_count": 22,
   "metadata": {},
   "outputs": [
    {
     "name": "stdout",
     "output_type": "stream",
     "text": [
      "\n",
      "Metrica Manhattan:\n",
      "       gender       age    income  family_members  insurance_benefits  distance\n",
      "0          1  0.630769  0.627848        0.166667                   0  0.000000\n",
      "2689       1  0.630769  0.634177        0.166667                   0  0.006329\n",
      "133        1  0.615385  0.636709        0.166667                   0  0.024245\n"
     ]
    }
   ],
   "source": [
    "print(\"\\nMetrica Manhattan:\\n\", get_knn(df_scaled, 0, 3, 'manhattan'))\n"
   ]
  },
  {
   "cell_type": "markdown",
   "metadata": {},
   "source": [
    "Respuestas a las preguntas"
   ]
  },
  {
   "cell_type": "markdown",
   "metadata": {},
   "source": [
    "**¿El hecho de que los datos no estén escalados afecta al algoritmo kNN? Si es así, ¿cómo se manifiesta?** \n",
    "\n",
    "Si, pueden afectar significativamente y se manifiesta en: \n",
    "\n",
    "    1.- Diferentes escalas de caracteristicas, si alguna de ellas tiene distancias muy amplias, estas  caracteristicas se volveran dominantes sobre las de menos distancia entre ellas.\n",
    "    2.- Distorsión de la metrica de distancia, ya que KNN calcula la distancia basandose en los valores de las caracteristicas y si no estan correctamente escaladas, pueden no reflejar correctamente los valores numericos.\n",
    "    3.- Impacto en la efectividad, el algoritmo se basa en encontrar vecinos mas cercanos a un punto de consulta, si las distancias no son representativas a la proximidad real, el algoritmo no podra encontrar los vecinos mas cercanos de manera precisa."
   ]
  },
  {
   "cell_type": "markdown",
   "metadata": {},
   "source": [
    "**¿Qué tan similares son los resultados al utilizar la métrica de distancia Manhattan (independientemente del escalado)?** \n",
    "\n",
    "los resultados son similares, la diferencia recae en que la distancia Manhattan se obtiene sumando las difenrecias absolutas entre dos coordenadas, a diferencia de la distancia Euclidiana, que se obtiene calculando la longitud entre dos coordenadas, la distancia Manhattan es adecuada para atos que no estan distribuidos de manera uniforme.\n",
    "\n",
    " las distancias Manhanttan son generalmente mayores a la Euclidianas, es importante seleccionar la metrica de distancia adecuada segun los datos a analizar."
   ]
  },
  {
   "cell_type": "markdown",
   "metadata": {},
   "source": [
    "# Tarea 2. ¿Es probable que el cliente reciba una prestación del seguro?"
   ]
  },
  {
   "cell_type": "markdown",
   "metadata": {},
   "source": [
    "En términos de machine learning podemos considerarlo como una tarea de clasificación binaria."
   ]
  },
  {
   "cell_type": "markdown",
   "metadata": {},
   "source": [
    "Con el valor de `insurance_benefits` superior a cero como objetivo, evalúa si el enfoque de clasificación kNN puede funcionar mejor que el modelo dummy.\n",
    "Instrucciones:\n",
    "- Construye un clasificador basado en KNN y mide su calidad con la métrica F1 para k=1...10 tanto para los datos originales como para los escalados. Sería interesante observar cómo k puede influir en la métrica de evaluación y si el escalado de los datos provoca alguna diferencia. Puedes utilizar una implementación ya existente del algoritmo de clasificación kNN de scikit-learn (consulta [el enlace](https://scikit-learn.org/stable/modules/generated/sklearn.neighbors.KNeighborsClassifier.html)) o tu propia implementación.- Construye un modelo dummy que, en este caso, es simplemente un modelo aleatorio. Debería devolver \"1\" con cierta probabilidad. Probemos el modelo con cuatro valores de probabilidad: 0, la probabilidad de pagar cualquier prestación del seguro, 0.5, 1.\n",
    "La probabilidad de pagar cualquier prestación del seguro puede definirse como\n",
    "$$\n",
    "P\\{\\text{prestación de seguro recibida}\\}=\\frac{\\text{número de clientes que han recibido alguna prestación de seguro}}{\\text{número total de clientes}}.\n",
    "$$\n",
    "\n",
    "Divide todos los datos correspondientes a las etapas de entrenamiento/prueba respetando la proporción 70:30."
   ]
  },
  {
   "cell_type": "code",
   "execution_count": 23,
   "metadata": {},
   "outputs": [],
   "source": [
    "# сalcula el objetivo\n",
    "df['insurance_benefits_received'] = df['insurance_benefits'] > 0\n",
    "\n",
    "# Convertir la columna a tipo entero (0 o 1)\n",
    "df['insurance_benefits_received'] = df['insurance_benefits_received'].astype(int)"
   ]
  },
  {
   "cell_type": "code",
   "execution_count": 24,
   "metadata": {},
   "outputs": [
    {
     "name": "stdout",
     "output_type": "stream",
     "text": [
      "insurance_benefits_received\n",
      "0    4436\n",
      "1     564\n",
      "Name: count, dtype: int64\n"
     ]
    }
   ],
   "source": [
    "# comprueba el desequilibrio de clases con value_counts()\n",
    "\n",
    "# <tu código aquí>\n",
    "# Contar las instancias de cada clase en la columna 'insurance_benefits_received'\n",
    "class_counts = df['insurance_benefits_received'].value_counts()\n",
    "\n",
    "# Mostrar el resultado\n",
    "print(class_counts)\n"
   ]
  },
  {
   "cell_type": "code",
   "execution_count": 25,
   "metadata": {},
   "outputs": [],
   "source": [
    "def eval_classifier(y_true, y_pred):\n",
    "    \n",
    "    f1_score = sklearn.metrics.f1_score(y_true, y_pred)\n",
    "    print(f'F1: {f1_score:.2f}')\n",
    "    \n",
    "# si tienes algún problema con la siguiente línea, reinicia el kernel y ejecuta el cuaderno de nuevo    \n",
    "    cm = sklearn.metrics.confusion_matrix(y_true, y_pred, normalize='all')\n",
    "    print('Matriz de confusión')\n",
    "    print(cm)"
   ]
  },
  {
   "cell_type": "code",
   "execution_count": 26,
   "metadata": {},
   "outputs": [],
   "source": [
    "# generar la salida de un modelo aleatorio\n",
    "\n",
    "def rnd_model_predict(P, size, seed=42):\n",
    "\n",
    "    rng = np.random.default_rng(seed=seed)\n",
    "    return rng.binomial(n=1, p=P, size=size)"
   ]
  },
  {
   "cell_type": "code",
   "execution_count": 27,
   "metadata": {},
   "outputs": [
    {
     "name": "stdout",
     "output_type": "stream",
     "text": [
      "La probabilidad: 0.00\n",
      "F1: 0.00\n",
      "Matriz de confusión\n",
      "[[0.8872 0.    ]\n",
      " [0.1128 0.    ]]\n",
      "\n",
      "La probabilidad: 0.11\n",
      "F1: 0.12\n",
      "Matriz de confusión\n",
      "[[0.7914 0.0958]\n",
      " [0.0994 0.0134]]\n",
      "\n",
      "La probabilidad: 0.50\n",
      "F1: 0.20\n",
      "Matriz de confusión\n",
      "[[0.456  0.4312]\n",
      " [0.053  0.0598]]\n",
      "\n",
      "La probabilidad: 1.00\n",
      "F1: 0.20\n",
      "Matriz de confusión\n",
      "[[0.     0.8872]\n",
      " [0.     0.1128]]\n",
      "\n"
     ]
    }
   ],
   "source": [
    "for P in [0, df['insurance_benefits_received'].sum() / len(df), 0.5, 1]:\n",
    "\n",
    "    print(f'La probabilidad: {P:.2f}')\n",
    "    y_pred_rnd = rnd_model_predict(P, size=len(df))\n",
    "        \n",
    "    eval_classifier(df['insurance_benefits_received'], y_pred_rnd)\n",
    "    \n",
    "    print()"
   ]
  },
  {
   "cell_type": "code",
   "execution_count": 28,
   "metadata": {},
   "outputs": [],
   "source": [
    "# Dividir los datos en entrenamiento y prueba\n",
    "X = df[['gender', 'age', 'income', 'family_members']]\n",
    "y = df['insurance_benefits_received']\n",
    "\n",
    "X_train, X_test, y_train, y_test = train_test_split(X, y, test_size=0.3, random_state=42)\n"
   ]
  },
  {
   "cell_type": "code",
   "execution_count": 29,
   "metadata": {},
   "outputs": [
    {
     "name": "stdout",
     "output_type": "stream",
     "text": [
      "Evaluación en datos originales:\n",
      "k=1, F1 score: 0.65\n",
      "k=2, F1 score: 0.38\n",
      "k=3, F1 score: 0.39\n",
      "k=4, F1 score: 0.16\n",
      "k=5, F1 score: 0.17\n",
      "k=6, F1 score: 0.09\n",
      "k=7, F1 score: 0.12\n",
      "k=8, F1 score: 0.02\n",
      "k=9, F1 score: 0.04\n",
      "k=10, F1 score: 0.04\n",
      "\n",
      "Evaluación en datos escalados:\n",
      "k=1, F1 score: 0.93\n",
      "k=2, F1 score: 0.91\n",
      "k=3, F1 score: 0.94\n",
      "k=4, F1 score: 0.92\n",
      "k=5, F1 score: 0.95\n",
      "k=6, F1 score: 0.92\n",
      "k=7, F1 score: 0.93\n",
      "k=8, F1 score: 0.92\n",
      "k=9, F1 score: 0.93\n",
      "k=10, F1 score: 0.92\n"
     ]
    }
   ],
   "source": [
    "# Función para evaluar el rendimiento del clasificador KNN\n",
    "def evaluate_knn(X_train, X_test, y_train, y_test, k_values):\n",
    "    results = {}\n",
    "    for k in k_values:\n",
    "        knn = KNeighborsClassifier(n_neighbors=k)\n",
    "        knn.fit(X_train, y_train)\n",
    "        y_pred = knn.predict(X_test)\n",
    "        f1 = f1_score(y_test, y_pred)\n",
    "        results[k] = f1\n",
    "        print(f'k={k}, F1 score: {f1:.2f}')\n",
    "    return results\n",
    "\n",
    "k_values = range(1, 11)\n",
    "\n",
    "# Evaluar el clasificador KNN en los datos originales\n",
    "print(\"Evaluación en datos originales:\")\n",
    "results_original = evaluate_knn(X_train, X_test, y_train, y_test, k_values)\n",
    "\n",
    "# Escalar los datos\n",
    "scaler = MaxAbsScaler()\n",
    "X_train_scaled = scaler.fit_transform(X_train)\n",
    "X_test_scaled = scaler.transform(X_test)\n",
    "\n",
    "# Evaluar el clasificador KNN en los datos escalados\n",
    "print(\"\\nEvaluación en datos escalados:\")\n",
    "results_scaled = evaluate_knn(X_train_scaled, X_test_scaled, y_train, y_test, k_values)"
   ]
  },
  {
   "cell_type": "code",
   "execution_count": 30,
   "metadata": {},
   "outputs": [
    {
     "name": "stdout",
     "output_type": "stream",
     "text": [
      "\n",
      "Evaluación del modelo dummy:\n",
      "Probabilidad: 0.00, F1 score: 0.00\n",
      "Matriz de confusión\n",
      "[[1339    0]\n",
      " [ 161    0]]\n",
      "\n",
      "Probabilidad: 0.11, F1 score: 0.17\n",
      "Matriz de confusión\n",
      "[[1191  148]\n",
      " [ 133   28]]\n",
      "\n",
      "Probabilidad: 0.50, F1 score: 0.20\n",
      "Matriz de confusión\n",
      "[[686 653]\n",
      " [ 72  89]]\n",
      "\n",
      "Probabilidad: 1.00, F1 score: 0.19\n",
      "Matriz de confusión\n",
      "[[   0 1339]\n",
      " [   0  161]]\n",
      "\n"
     ]
    }
   ],
   "source": [
    "# Función para predicciones aleatorias\n",
    "def rnd_model_predict(P, size, seed=42):\n",
    "    rng = np.random.default_rng(seed=seed)\n",
    "    return rng.binomial(n=1, p=P, size=size)\n",
    "\n",
    "# Función para evaluar el modelo dummy\n",
    "def evaluate_dummy(y_true, P_values):\n",
    "    for P in P_values:\n",
    "        y_pred = rnd_model_predict(P, len(y_true))\n",
    "        f1 = f1_score(y_true, y_pred)\n",
    "        cm = confusion_matrix(y_true, y_pred)\n",
    "        print(f'Probabilidad: {P:.2f}, F1 score: {f1:.2f}')\n",
    "        print('Matriz de confusión')\n",
    "        print(cm)\n",
    "        print()\n",
    "\n",
    "P_values = [0, y.mean(), 0.5, 1]\n",
    "\n",
    "# Evaluar el modelo dummy\n",
    "print(\"\\nEvaluación del modelo dummy:\")\n",
    "evaluate_dummy(y_test, P_values)"
   ]
  },
  {
   "cell_type": "markdown",
   "metadata": {},
   "source": [
    "Los datos escalados no solo tienen un mejor desempeño para el mismo k, sino que también es un desempeño muy bueno y estable para diferentes k, a diferencia de la data no escalada.\n"
   ]
  },
  {
   "cell_type": "markdown",
   "metadata": {},
   "source": [
    "# Tarea 3. Regresión (con regresión lineal)"
   ]
  },
  {
   "cell_type": "markdown",
   "metadata": {},
   "source": [
    "Con `insurance_benefits` como objetivo, evalúa cuál sería la RECM de un modelo de regresión lineal."
   ]
  },
  {
   "cell_type": "markdown",
   "metadata": {},
   "source": [
    "Construye tu propia implementación de regresión lineal. Para ello, recuerda cómo está formulada la solución de la tarea de regresión lineal en términos de LA. Comprueba la RECM tanto para los datos originales como para los escalados. ¿Puedes ver alguna diferencia en la RECM con respecto a estos dos casos?\n",
    "\n",
    "Denotemos- $X$: matriz de características; cada fila es un caso, cada columna es una característica, la primera columna está formada por unidades- $y$ — objetivo (un vector)- $\\hat{y}$ — objetivo estimado (un vector)- $w$ — vector de pesos\n",
    "La tarea de regresión lineal en el lenguaje de las matrices puede formularse así:\n",
    "$$\n",
    "y = Xw\n",
    "$$\n",
    "\n",
    "El objetivo de entrenamiento es entonces encontrar esa $w$ w que minimice la distancia L2 (ECM) entre $Xw$ y $y$:\n",
    "\n",
    "$$\n",
    "\\min_w d_2(Xw, y) \\quad \\text{or} \\quad \\min_w \\text{MSE}(Xw, y)\n",
    "$$\n",
    "\n",
    "Parece que hay una solución analítica para lo anteriormente expuesto:\n",
    "$$\n",
    "w = (X^T X)^{-1} X^T y\n",
    "$$\n",
    "\n",
    "La fórmula anterior puede servir para encontrar los pesos $w$ y estos últimos pueden utilizarse para calcular los valores predichos\n",
    "$$\n",
    "\\hat{y} = X_{val}w\n",
    "$$"
   ]
  },
  {
   "cell_type": "markdown",
   "metadata": {},
   "source": [
    "Divide todos los datos correspondientes a las etapas de entrenamiento/prueba respetando la proporción 70:30. Utiliza la métrica RECM para evaluar el modelo."
   ]
  },
  {
   "cell_type": "code",
   "execution_count": 31,
   "metadata": {},
   "outputs": [],
   "source": [
    "class MyLinearRegression:\n",
    "    \n",
    "    def __init__(self):\n",
    "        \n",
    "        self.weights = None\n",
    "    \n",
    "    def fit(self, X, y):\n",
    "        \n",
    "        # añadir las unidades\n",
    "        X2 = np.append(np.ones([len(X), 1]), X, axis=1)\n",
    "        self.weights = np.linalg.inv(X2.T @ X2) @ X2.T @ y # <tu código aquí>\n",
    "\n",
    "    def predict(self, X):\n",
    "        \n",
    "        # añadir las unidades\n",
    "        X2 = np.append(np.ones([len(X), 1]), X, axis=1) # <tu código aquí>\n",
    "        y_pred = X2 @ self.weights # <tu código aquí>\n",
    "        \n",
    "        return y_pred"
   ]
  },
  {
   "cell_type": "code",
   "execution_count": 32,
   "metadata": {},
   "outputs": [],
   "source": [
    "def eval_regressor(y_true, y_pred):\n",
    "    \n",
    "    rmse = math.sqrt(sklearn.metrics.mean_squared_error(y_true, y_pred))\n",
    "    print(f'RMSE: {rmse:.2f}')\n",
    "    \n",
    "    r2_score = math.sqrt(sklearn.metrics.r2_score(y_true, y_pred))\n",
    "    print(f'R2: {r2_score:.2f}')    "
   ]
  },
  {
   "cell_type": "code",
   "execution_count": null,
   "metadata": {},
   "outputs": [],
   "source": []
  },
  {
   "cell_type": "code",
   "execution_count": 33,
   "metadata": {},
   "outputs": [
    {
     "name": "stdout",
     "output_type": "stream",
     "text": [
      "[-9.43539012e-01  3.57495491e-02  1.64272726e-02 -2.60743659e-07\n",
      " -1.16902127e-02]\n",
      "RMSE: 0.34\n",
      "R2: 0.66\n"
     ]
    }
   ],
   "source": [
    "X = df[['age', 'gender', 'income', 'family_members']].to_numpy()\n",
    "y = df['insurance_benefits'].to_numpy()\n",
    "\n",
    "X_train, X_test, y_train, y_test = train_test_split(X, y, test_size=0.3, random_state=12345)\n",
    "\n",
    "lr = MyLinearRegression()\n",
    "\n",
    "lr.fit(X_train, y_train)\n",
    "print(lr.weights)\n",
    "\n",
    "y_test_pred = lr.predict(X_test)\n",
    "eval_regressor(y_test, y_test_pred)"
   ]
  },
  {
   "cell_type": "code",
   "execution_count": 34,
   "metadata": {},
   "outputs": [
    {
     "name": "stdout",
     "output_type": "stream",
     "text": [
      "Pesos del modelo (escalado): [-0.94353901  2.32372069  0.01642727 -0.02059875 -0.07014128]\n",
      "RMSE: 0.34\n",
      "R2: 0.66\n"
     ]
    }
   ],
   "source": [
    "# Escalar los datos\n",
    "scaler = MaxAbsScaler().fit(X_train)\n",
    "X_train_scaled = scaler.transform(X_train)\n",
    "X_test_scaled = scaler.transform(X_test)\n",
    "\n",
    "# Crear y entrenar el modelo en datos escalados\n",
    "lr_scaled = MyLinearRegression()\n",
    "lr_scaled.fit(X_train_scaled, y_train)\n",
    "print(\"Pesos del modelo (escalado):\", lr_scaled.weights)\n",
    "\n",
    "# Predecir y evaluar el modelo en datos escalados\n",
    "y_test_pred_scaled = lr_scaled.predict(X_test_scaled)\n",
    "eval_regressor(y_test, y_test_pred_scaled)"
   ]
  },
  {
   "cell_type": "markdown",
   "metadata": {},
   "source": [
    "Comparación con el modelo no escalado.\n",
    "\n",
    "\n",
    "Comparando estos resultados con los del modelo sin escalado ([-9.43539012e-01 3.57495491e-02 1.64272726e-02 -2.60743659e-07 -1.16902127e-02]), observamos que los valores de RMSE y R2 son idénticos en ambos casos. Esto puede deberse a que el escalado con MaxAbsScaler no tuvo un impacto significativo en este conjunto de datos en particular."
   ]
  },
  {
   "cell_type": "markdown",
   "metadata": {},
   "source": [
    "El escalado no tiene efecto sobre la regresión lineal."
   ]
  },
  {
   "cell_type": "markdown",
   "metadata": {},
   "source": [
    "# Tarea 4. Ofuscar datos"
   ]
  },
  {
   "cell_type": "markdown",
   "metadata": {},
   "source": [
    "Lo mejor es ofuscar los datos multiplicando las características numéricas (recuerda que se pueden ver como la matriz $X$) por una matriz invertible $P$. \n",
    "\n",
    "$$\n",
    "X' = X \\times P\n",
    "$$\n",
    "\n",
    "Trata de hacerlo y comprueba cómo quedarán los valores de las características después de la transformación. Por cierto, la propiedad de invertibilidad es importante aquí, así que asegúrate de que $P$ sea realmente invertible.\n",
    "\n",
    "Puedes revisar la lección 'Matrices y operaciones matriciales -> Multiplicación de matrices' para recordar la regla de multiplicación de matrices y su implementación con NumPy."
   ]
  },
  {
   "cell_type": "code",
   "execution_count": 35,
   "metadata": {},
   "outputs": [],
   "source": [
    "personal_info_column_list = ['gender', 'age', 'income', 'family_members']\n",
    "df_pn = df[personal_info_column_list]\n"
   ]
  },
  {
   "cell_type": "code",
   "execution_count": 36,
   "metadata": {},
   "outputs": [],
   "source": [
    "X = df_pn.to_numpy()"
   ]
  },
  {
   "cell_type": "markdown",
   "metadata": {},
   "source": [
    "Generar una matriz aleatoria $P$."
   ]
  },
  {
   "cell_type": "code",
   "execution_count": 37,
   "metadata": {},
   "outputs": [],
   "source": [
    "rng = np.random.default_rng(seed=42)\n",
    "P = rng.random(size=(X.shape[1], X.shape[1]))"
   ]
  },
  {
   "cell_type": "markdown",
   "metadata": {},
   "source": [
    "Comprobar que la matriz P sea invertible"
   ]
  },
  {
   "cell_type": "code",
   "execution_count": 38,
   "metadata": {},
   "outputs": [
    {
     "name": "stdout",
     "output_type": "stream",
     "text": [
      "det_P = 0.24339135998015468\n",
      "La matriz aleatoria P es invertible\n"
     ]
    }
   ],
   "source": [
    "# Comprobar la invertibilidad de P\n",
    "det_P = np.linalg.det(P)\n",
    "\n",
    "if det_P == 0:\n",
    "    print(\"La matriz P no es invertible. Generando una nueva matriz aleatoria P.\")\n",
    "    while det_P == 0:\n",
    "        P = rng.random(size=(X.shape[1], X.shape[1]))\n",
    "        det_P = np.linalg.det(P)\n",
    "    print(\"Nueva matriz P invertible generada.\")\n",
    "else:\n",
    "    print(f'det_P = {det_P}')\n",
    "    print(\"La matriz aleatoria P es invertible\")\n",
    "    "
   ]
  },
  {
   "cell_type": "markdown",
   "metadata": {},
   "source": [
    "¿Puedes adivinar la edad o los ingresos de los clientes después de la transformación?"
   ]
  },
  {
   "cell_type": "markdown",
   "metadata": {},
   "source": [
    "Después de aplicar la transformación $$𝑋{^′} = 𝑋⋅𝑃$$ donde 𝑃 es una matriz aleatoria invertible, no es posible adivinar directamente la edad o los ingresos de los clientes. La transformación 𝑋′ mezcla y ofusca las características originales de 𝑋.\n",
    "\n",
    "La razón principal es que la matriz 𝑃 cambia las relaciones lineales entre las características originales de 𝑋. Incluso si conocemos 𝑃, el proceso de recuperación ⋅ $$ 𝑋= 𝑋{^′}⋅ p{^-}{^1}$$ no devuelve exactamente los valores originales debido a errores de redondeo y pérdida de precisión numérica en las operaciones matriciales.\n",
    "\n",
    "Por lo tanto, después de la transformación, los datos ofuscados $$𝑋{^′}$$\n",
    "  son representaciones modificadas de los datos originales $$ 𝑋 $$\n",
    "pero no se puede inferir directamente la edad o los ingresos de los clientes a partir de \n",
    "$$ 𝑋{^′} $$ \n",
    "sin conocer $$ 𝑃{^−}{^1}$$\n",
    "y realizar la operación de recuperación con precisión.\n"
   ]
  },
  {
   "cell_type": "markdown",
   "metadata": {},
   "source": [
    "¿Puedes recuperar los datos originales de $X'$ si conoces $P$? Intenta comprobarlo a través de los cálculos moviendo $P$ del lado derecho de la fórmula anterior al izquierdo. En este caso las reglas de la multiplicación matricial son realmente útiles"
   ]
  },
  {
   "cell_type": "markdown",
   "metadata": {},
   "source": [
    "Sí, es posible recuperar los datos originales \n",
    "𝑋 a partir de los datos transformados \n",
    "𝑋′ si conocemos la matriz \n",
    "𝑃"
   ]
  },
  {
   "cell_type": "markdown",
   "metadata": {},
   "source": [
    "Muestra los tres casos para algunos clientes- Datos originales\n",
    "- El que está transformado- El que está invertido (recuperado)"
   ]
  },
  {
   "cell_type": "code",
   "execution_count": 39,
   "metadata": {},
   "outputs": [
    {
     "name": "stdout",
     "output_type": "stream",
     "text": [
      "Datos originales X:\n",
      "[[    1    30 50000]\n",
      " [    0    25 60000]\n",
      " [    1    35 55000]]\n",
      "\n",
      "Datos transformados X':\n",
      "[[38078.68009644 39306.47946272  6435.80890225]\n",
      " [45685.81632015 47166.21275031  7711.20851932]\n",
      " [41887.86544654 43237.27187585  7081.25517738]]\n",
      "\n",
      "Datos recuperados X (aproximación):\n",
      "[[ 1.00000000e+00  3.00000000e+01  5.00000000e+04]\n",
      " [-3.04923426e-12  2.50000000e+01  6.00000000e+04]\n",
      " [ 1.00000000e+00  3.50000000e+01  5.50000000e+04]]\n",
      "\n",
      "Primeros 3 clientes:\n",
      "\n",
      "Datos originales X:\n",
      "[[    1    30 50000]\n",
      " [    0    25 60000]\n",
      " [    1    35 55000]]\n",
      "\n",
      "Datos transformados X':\n",
      "[[38078.68009644 39306.47946272  6435.80890225]\n",
      " [45685.81632015 47166.21275031  7711.20851932]\n",
      " [41887.86544654 43237.27187585  7081.25517738]]\n",
      "\n",
      "Datos recuperados X (aproximación):\n",
      "[[ 1.00000000e+00  3.00000000e+01  5.00000000e+04]\n",
      " [-3.04923426e-12  2.50000000e+01  6.00000000e+04]\n",
      " [ 1.00000000e+00  3.50000000e+01  5.50000000e+04]]\n"
     ]
    }
   ],
   "source": [
    "import numpy as np\n",
    "\n",
    "# Supongamos que X es una matriz de características originales\n",
    "X = np.array([\n",
    "    [1, 30, 50000],\n",
    "    [0, 25, 60000],\n",
    "    [1, 35, 55000]\n",
    "])\n",
    "\n",
    "# Generamos una matriz aleatoria invertible P\n",
    "rng = np.random.default_rng(seed=42)\n",
    "P = rng.random(size=(X.shape[1], X.shape[1]))\n",
    "while np.linalg.det(P) == 0:  # Aseguramos que P sea invertible\n",
    "    P = rng.random(size=(X.shape[1], X.shape[1]))\n",
    "\n",
    "# Transformación X' = X * P\n",
    "X_prime = X.dot(P)\n",
    "\n",
    "# Recuperación de X a partir de X' utilizando P^-1\n",
    "P_inv = np.linalg.inv(P)\n",
    "X_recovered = X_prime.dot(P_inv)\n",
    "\n",
    "# Mostrar los resultados\n",
    "print(\"Datos originales X:\")\n",
    "print(X)\n",
    "print(\"\\nDatos transformados X':\")\n",
    "print(X_prime)\n",
    "print(\"\\nDatos recuperados X (aproximación):\")\n",
    "print(X_recovered)\n",
    "\n",
    "# Mostrar resultados para algunos clientes específicos\n",
    "num_clientes = 3\n",
    "\n",
    "print(f\"\\nPrimeros {num_clientes} clientes:\")\n",
    "print(\"\\nDatos originales X:\")\n",
    "print(X[:num_clientes])\n",
    "print(\"\\nDatos transformados X':\")\n",
    "print(X_prime[:num_clientes])\n",
    "print(\"\\nDatos recuperados X (aproximación):\")\n",
    "print(X_recovered[:num_clientes])"
   ]
  },
  {
   "cell_type": "markdown",
   "metadata": {},
   "source": [
    "Seguramente puedes ver que algunos valores no son exactamente iguales a los de los datos originales. ¿Cuál podría ser la razón de ello?"
   ]
  },
  {
   "cell_type": "markdown",
   "metadata": {},
   "source": [
    "Se observa que los datos recuperados no coinciden exactamente con los datos originales debido a errores numéricos, pero son aproximadamente iguales. Esto muestra que es posible recuperar una aproximación de los datos originales \n",
    "𝑋 si conocemos la matriz \n",
    "𝑃 utilizada para la transformación.\n",
    "\n",
    "La razón principal por la cual los valores recuperados (después de la transformación y la inversión) no son exactamente iguales a los datos originales radica en los errores numéricos asociados con la precisión finita de los cálculos en computadora. Aquí hay varios factores que contribuyen a esta discrepancia, sin embargo, en muchos casos, estos errores son pequeños y aceptables en términos de precisión y aproximación de los datos originales.\n",
    "\n",
    "\n",
    "\n"
   ]
  },
  {
   "cell_type": "markdown",
   "metadata": {},
   "source": [
    "## Prueba de que la ofuscación de datos puede funcionar con regresión lineal"
   ]
  },
  {
   "cell_type": "markdown",
   "metadata": {},
   "source": [
    "En este proyecto la tarea de regresión se ha resuelto con la regresión lineal. Tu siguiente tarea es demostrar _analytically_ que el método de ofuscación no afectará a la regresión lineal en términos de valores predichos, es decir, que sus valores seguirán siendo los mismos. ¿Lo puedes creer? Pues no hace falta que lo creas, ¡tienes que que demostrarlo!"
   ]
  },
  {
   "cell_type": "markdown",
   "metadata": {},
   "source": [
    "Entonces, los datos están ofuscados y ahora tenemos $X \\times P$ en lugar de tener solo $X$. En consecuencia, hay otros pesos $w_P$ como\n",
    "$$\n",
    "w = (X^T X)^{-1} X^T y \\quad \\Rightarrow \\quad w_P = [(XP)^T XP]^{-1} (XP)^T y\n",
    "$$\n",
    "\n",
    "¿Cómo se relacionarían $w$ y $w_P$ si simplificáramos la fórmula de $w_P$ anterior? \n",
    "\n",
    "¿Cuáles serían los valores predichos con $w_P$? \n",
    "\n",
    "¿Qué significa esto para la calidad de la regresión lineal si esta se mide mediante la RECM?\n",
    "Revisa el Apéndice B Propiedades de las matrices al final del cuaderno. ¡Allí encontrarás fórmulas muy útiles!\n",
    "\n",
    "No es necesario escribir código en esta sección, basta con una explicación analítica."
   ]
  },
  {
   "cell_type": "markdown",
   "metadata": {},
   "source": [
    "**Respuesta**"
   ]
  },
  {
   "cell_type": "markdown",
   "metadata": {},
   "source": [
    "\n",
    "$ w=(X {^T} X) {^−}{^1} X {^T} y $\n",
    "\n",
    "Comparando, podemos ver que:\n",
    "\n",
    "\n",
    "$ wP​ = P{^−}{^1} w $\n",
    "\n",
    "Esta relación:\n",
    "\n",
    "$ 𝑤𝑃 = 𝑃{^−}{^1}𝑤 $\n",
    "\n",
    "\n",
    "Nos dice que los pesos transformados 𝑤𝑃 se obtienen aplicando la inversa de  𝑃 a los pesos originales 𝑤. Esta transformación asegura que, aunque los datos \n",
    "𝑋 hayan sido ofuscados mediante la multiplicación por una matriz invertible \n",
    "𝑃, podemos recuperar los pesos originales ajustando correctamente por $𝑃{^−}{^1}$\n"
   ]
  },
  {
   "cell_type": "markdown",
   "metadata": {},
   "source": [
    "**Prueba analítica**"
   ]
  },
  {
   "cell_type": "markdown",
   "metadata": {},
   "source": [
    "Relación entre 𝑤 y 𝑤𝑃:\n",
    "\n",
    "Dado:\n",
    "\n",
    "$𝑤 =(𝑋{^𝑇}𝑋) {^−}{^1} 𝑋{^𝑇} 𝑦 $\n",
    "\n",
    "Para los datos transformados 𝑋′ = 𝑋𝑃 :\n",
    "\n",
    "$𝑤𝑃 = [(𝑋𝑃){^𝑇}𝑋𝑃]{^−}{^1}(𝑋𝑃){^𝑇}𝑦 $\n",
    "\n",
    "Simplificamos 𝑤𝑃:\n",
    "\n",
    "$ (XP){^T} = P{^t} X{^T}$\n",
    " \n",
    "$ 𝑤𝑃 = [(𝑃{^𝑇}𝑋{^𝑇})(𝑋𝑃)]{^−}{^1}(𝑃{^𝑇}𝑋{^𝑇})𝑦 $\n",
    "\n",
    "$𝑤𝑃 = (𝑃{^𝑇} 𝑋{^𝑇} 𝑋𝑃){^−}{^1} 𝑃{^𝑇} 𝑋{^𝑇} 𝑦 $\n",
    "\n",
    "Usamos la propiedad de la inversa del producto de matrices:\n",
    "\n",
    "$ (P{^T} X{^T} XP){^−}{^1} = P{^−}{^1}(X{^T}X){^−}{^1}(P{^T}){^−}{^1} $\n",
    "\n",
    "Entonces:\n",
    "\n",
    "$ 𝑤𝑃 = P{^−}{^1}(X{^T}X){^−}{^1}(P{^T}){^−}{^1} P{^T} X{^T} 𝑦 $\n",
    "\n",
    "Dado que $(𝑃{^𝑇}){^−}{^1} 𝑃{^𝑇} = 𝐼$ (la matriz identidad), podemos simplificar:\n",
    "\n",
    "$wP = P{^−}{^1} (X{^T}X){^−}{^1} X{^T} y $\n",
    "\n",
    "Reconociendo que:\n",
    "\n",
    "$𝑤 =(𝑋{^𝑇}𝑋){^−}{^1}𝑋{^𝑇} 𝑦 $\n",
    "\n",
    "$\\therefore$\n",
    "\n",
    "$ wP = P{^−}{^1} w $\n",
    "\n"
   ]
  },
  {
   "cell_type": "markdown",
   "metadata": {},
   "source": [
    "## Prueba de regresión lineal con ofuscación de datos"
   ]
  },
  {
   "cell_type": "markdown",
   "metadata": {},
   "source": [
    "Ahora, probemos que la regresión lineal pueda funcionar, en términos computacionales, con la transformación de ofuscación elegida.\n",
    "Construye un procedimiento o una clase que ejecute la regresión lineal opcionalmente con la ofuscación. Puedes usar una implementación de regresión lineal de scikit-learn o tu propia implementación.\n",
    "Ejecuta la regresión lineal para los datos originales y los ofuscados, compara los valores predichos y los valores de las métricas RMSE y $R^2$. ¿Hay alguna diferencia?"
   ]
  },
  {
   "cell_type": "markdown",
   "metadata": {},
   "source": [
    "**Procedimiento**\n",
    "\n",
    "- Crea una matriz cuadrada $P$ de números aleatorios.- Comprueba que sea invertible. Si no lo es, repite el primer paso hasta obtener una matriz invertible.- <¡ tu comentario aquí !>\n",
    "- Utiliza $XP$ como la nueva matriz de características"
   ]
  },
  {
   "cell_type": "code",
   "execution_count": 40,
   "metadata": {},
   "outputs": [],
   "source": [
    "import numpy as np\n",
    "import pandas as pd\n",
    "from sklearn.model_selection import train_test_split\n",
    "from sklearn.metrics import mean_squared_error, r2_score"
   ]
  },
  {
   "cell_type": "code",
   "execution_count": 41,
   "metadata": {},
   "outputs": [],
   "source": [
    "class MyLinearRegression:\n",
    "    def __init__(self, use_obfuscation=False, P=None):\n",
    "        self.weights = None\n",
    "        self.use_obfuscation = use_obfuscation\n",
    "        self.P = P\n",
    "    \n",
    "    def fit(self, X, y):\n",
    "        if self.use_obfuscation and self.P is not None:\n",
    "            X = X @ self.P\n",
    "        X = np.append(np.ones([len(X), 1]), X, axis=1)\n",
    "        self.weights = np.linalg.inv(X.T @ X) @ X.T @ y\n",
    "\n",
    "    def predict(self, X):\n",
    "        if self.use_obfuscation and self.P is not None:\n",
    "            X = X @ self.P\n",
    "        X = np.append(np.ones([len(X), 1]), X, axis=1)\n",
    "        y_pred = X @ self.weights\n",
    "        return y_pred\n",
    "\n",
    "def eval_regressor(y_true, y_pred):\n",
    "    rmse = np.sqrt(mean_squared_error(y_true, y_pred))\n",
    "    r2 = r2_score(y_true, y_pred)\n",
    "    return rmse, r2\n"
   ]
  },
  {
   "cell_type": "code",
   "execution_count": 42,
   "metadata": {},
   "outputs": [
    {
     "name": "stdout",
     "output_type": "stream",
     "text": [
      "Pesos del modelo original: [-9.43539012e-01  1.64272726e-02  3.57495491e-02 -2.60743659e-07\n",
      " -1.16902127e-02]\n",
      "RMSE del modelo original: 0.34\n",
      "R2 del modelo original: 0.43\n",
      "Pesos del modelo ofuscado: [-0.94353899 -0.05791722 -0.01546567  0.09871889 -0.02397536]\n",
      "RMSE del modelo ofuscado: 0.34\n",
      "R2 del modelo ofuscado: 0.43\n",
      "\n",
      "Ejemplos de datos:\n",
      "Original: [0.0e+00 3.3e+01 3.9e+04 4.0e+00]\n",
      "Transformado: [ 5002.11498731 17600.53816198 14488.01421203 36170.68364206]\n",
      "Recuperado: [0.0e+00 3.3e+01 3.9e+04 4.0e+00]\n",
      "\n",
      "Original: [0.00e+00 5.00e+01 4.31e+04 2.00e+00]\n",
      "Transformado: [ 5527.69416595 19462.06056411 16020.33865792 39983.32871208]\n",
      "Recuperado: [-3.63797881e-12  5.00000000e+01  4.31000000e+04  2.00000000e+00]\n",
      "\n",
      "Original: [1.00e+00 3.90e+01 4.21e+04 0.00e+00]\n",
      "Transformado: [ 5398.03080826 18999.73613556 15641.13986649 39048.15990646]\n",
      "Recuperado: [1.00000000e+00 3.90000000e+01 4.21000000e+04 7.27595761e-12]\n",
      "\n"
     ]
    }
   ],
   "source": [
    "\n",
    "def eval_regressor(y_true, y_pred):\n",
    "    rmse = np.sqrt(mean_squared_error(y_true, y_pred))\n",
    "    r2 = r2_score(y_true, y_pred)\n",
    "    return rmse, r2\n",
    "\n",
    "# Crear la matriz de ofuscación P\n",
    "rng = np.random.default_rng(seed=42)\n",
    "P = rng.random(size=(4, 4))\n",
    "\n",
    "# Asegurarse de que P es invertible\n",
    "while np.linalg.cond(P) >= 1/np.finfo(P.dtype).eps:\n",
    "    P = rng.random(size=(4, 4))\n",
    "\n",
    "# Datos originales\n",
    "# el data fam esta cargado desde el archivo insurace_us.csv \n",
    "\n",
    "X = df[['gender', 'age', 'income', 'family_members']].to_numpy()\n",
    "y = df['insurance_benefits'].to_numpy()\n",
    "\n",
    "# Dividir los datos en conjuntos de entrenamiento y prueba\n",
    "X_train, X_test, y_train, y_test = train_test_split(X, y, test_size=0.3, random_state=12345)\n",
    "\n",
    "# Modelo sin ofuscación\n",
    "lr_original = MyLinearRegression()\n",
    "lr_original.fit(X_train, y_train)\n",
    "y_test_pred_original = lr_original.predict(X_test)\n",
    "rmse_original, r2_original = eval_regressor(y_test, y_test_pred_original)\n",
    "\n",
    "# Modelo con ofuscación\n",
    "lr_obfuscated = MyLinearRegression(use_obfuscation=True, P=P)\n",
    "lr_obfuscated.fit(X_train, y_train)\n",
    "y_test_pred_obfuscated = lr_obfuscated.predict(X_test)\n",
    "rmse_obfuscated, r2_obfuscated = eval_regressor(y_test, y_test_pred_obfuscated)\n",
    "\n",
    "print(f\"Pesos del modelo original: {lr_original.weights}\")\n",
    "print(f\"RMSE del modelo original: {rmse_original:.2f}\")\n",
    "print(f\"R2 del modelo original: {r2_original:.2f}\")\n",
    "\n",
    "print(f\"Pesos del modelo ofuscado: {lr_obfuscated.weights}\")\n",
    "print(f\"RMSE del modelo ofuscado: {rmse_obfuscated:.2f}\")\n",
    "print(f\"R2 del modelo ofuscado: {r2_obfuscated:.2f}\")\n",
    "\n",
    "# Comprobación de recuperación de datos originales\n",
    "X_test_obfuscated = X_test @ P\n",
    "X_test_recovered = X_test_obfuscated @ np.linalg.inv(P)\n",
    "assert np.allclose(X_test, X_test_recovered, atol=1e-6), \"La recuperación de los datos originales falló\"\n",
    "\n",
    "# Mostrar algunos ejemplos\n",
    "num_examples = min(len(X_test), 3)\n",
    "print(\"\\nEjemplos de datos:\")\n",
    "for i in range(num_examples):\n",
    "    print(f\"Original: {X_test[i]}\")\n",
    "    print(f\"Transformado: {X_test_obfuscated[i]}\")\n",
    "    print(f\"Recuperado: {X_test_recovered[i]}\")\n",
    "    print()"
   ]
  },
  {
   "cell_type": "markdown",
   "metadata": {},
   "source": [
    "# Conclusiones"
   ]
  },
  {
   "cell_type": "markdown",
   "metadata": {},
   "source": [
    "Las pequeñas diferencias entre los datos originales y los recuperados se deben a errores de redondeo y la precisión limitada de las operaciones en punto flotante en los cálculos numéricos."
   ]
  },
  {
   "cell_type": "markdown",
   "metadata": {},
   "source": [
    "La ofuscación de los datos usando una matriz \n",
    "𝑃 aleatoria y su inversa permite transformar y recuperar los datos originales con una precisión razonable. Sin embargo, la ofuscación afecta significativamente la calidad del modelo de regresión lineal, como lo indican las métricas de RMSE y \n",
    "$𝑅{^2}$. Esta diferencia es crucial al considerar el uso de ofuscación en aplicaciones prácticas donde la precisión del modelo es importante."
   ]
  },
  {
   "cell_type": "markdown",
   "metadata": {},
   "source": [
    "En contraste, la ofuscación de los datos nos permite protección y privacidad de los datos para poder trabajar con ellos en ambientes de desarrollo y pruebas y si los datos llegan a ser robados o expuestos accidentalmente, la inforacion sensible no sera inmediatamente accesible o visible."
   ]
  },
  {
   "cell_type": "markdown",
   "metadata": {},
   "source": [
    "# Lista de control"
   ]
  },
  {
   "cell_type": "markdown",
   "metadata": {},
   "source": [
    "Escribe 'x' para verificar. Luego presiona Shift+Enter."
   ]
  },
  {
   "cell_type": "markdown",
   "metadata": {},
   "source": [
    "- [x]  Jupyter Notebook está abierto\n",
    "- [ ]  El código no tiene errores- [ ]  Las celdas están ordenadas de acuerdo con la lógica y el orden de ejecución\n",
    "- [x]  Se ha realizado la tarea 1\n",
    "    - [ ]  Está presente el procedimiento que puede devolver k clientes similares para un cliente determinado\n",
    "    - [ ]  Se probó el procedimiento para las cuatro combinaciones propuestas    \n",
    "    - [ ]  Se respondieron las preguntas sobre la escala/distancia\n",
    "- [ ]  Se ha realizado la tarea 2\n",
    "    - [ ]  Se construyó y probó el modelo de clasificación aleatoria para todos los niveles de probabilidad    \n",
    "    - [ ]  Se construyó y probó el modelo de clasificación kNN tanto para los datos originales como para los escalados. Se calculó la métrica F1.\n",
    "- [ ]  Se ha realizado la tarea 3\n",
    "    - [ ]  Se implementó la solución de regresión lineal mediante operaciones matriciales    \n",
    "    - [ ]  Se calculó la RECM para la solución implementada\n",
    "- [ ]  Se ha realizado la tarea 4\n",
    "    - [ ]  Se ofuscaron los datos mediante una matriz aleatoria e invertible P    \n",
    "    - [ ]  Se recuperaron los datos ofuscados y se han mostrado algunos ejemplos    \n",
    "    - [ ]  Se proporcionó la prueba analítica de que la transformación no afecta a la RECM    \n",
    "    - [ ]  Se proporcionó la prueba computacional de que la transformación no afecta a la RECM\n",
    "    - [ ]  Se han sacado conclusiones"
   ]
  },
  {
   "cell_type": "markdown",
   "metadata": {},
   "source": [
    "# Apéndices\n",
    "\n",
    "## Apéndice A: Escribir fórmulas en los cuadernos de Jupyter"
   ]
  },
  {
   "cell_type": "markdown",
   "metadata": {},
   "source": [
    "Puedes escribir fórmulas en tu Jupyter Notebook utilizando un lenguaje de marcado proporcionado por un sistema de publicación de alta calidad llamado $\\LaTeX$ (se pronuncia como \"Lah-tech\"). Las fórmulas se verán como las de los libros de texto.\n",
    "\n",
    "Para incorporar una fórmula a un texto, pon el signo de dólar (\\\\$) antes y después del texto de la fórmula, por ejemplo: $\\frac{1}{2} \\times \\frac{3}{2} = \\frac{3}{4}$ or $y = x^2, x \\ge 1$.\n",
    "\n",
    "Si una fórmula debe estar en el mismo párrafo, pon el doble signo de dólar (\\\\$\\\\$) antes y después del texto de la fórmula, por ejemplo:\n",
    "$$\n",
    "\\bar{x} = \\frac{1}{n}\\sum_{i=1}^{n} x_i.\n",
    "$$\n",
    "\n",
    "El lenguaje de marcado de [LaTeX](https://es.wikipedia.org/wiki/LaTeX) es muy popular entre las personas que utilizan fórmulas en sus artículos, libros y textos. Puede resultar complicado, pero sus fundamentos son sencillos. Consulta esta [ficha de ayuda](http://tug.ctan.org/info/undergradmath/undergradmath.pdf) (materiales en inglés) de dos páginas para aprender a componer las fórmulas más comunes."
   ]
  },
  {
   "cell_type": "markdown",
   "metadata": {},
   "source": [
    "## Apéndice B: Propiedades de las matrices"
   ]
  },
  {
   "cell_type": "markdown",
   "metadata": {},
   "source": [
    "Las matrices tienen muchas propiedades en cuanto al álgebra lineal. Aquí se enumeran algunas de ellas que pueden ayudarte a la hora de realizar la prueba analítica de este proyecto."
   ]
  },
  {
   "cell_type": "markdown",
   "metadata": {},
   "source": [
    "<table>\n",
    "<tr>\n",
    "<td>Distributividad</td><td>$A(B+C)=AB+AC$</td>\n",
    "</tr>\n",
    "<tr>\n",
    "<td>No conmutatividad</td><td>$AB \\neq BA$</td>\n",
    "</tr>\n",
    "<tr>\n",
    "<td>Propiedad asociativa de la multiplicación</td><td>$(AB)C = A(BC)$</td>\n",
    "</tr>\n",
    "<tr>\n",
    "<td>Propiedad de identidad multiplicativa</td><td>$IA = AI = A$</td>\n",
    "</tr>\n",
    "<tr>\n",
    "<td></td><td>$A^{-1}A = AA^{-1} = I$\n",
    "</td>\n",
    "</tr>    \n",
    "<tr>\n",
    "<td></td><td>$(AB)^{-1} = B^{-1}A^{-1}$</td>\n",
    "</tr>    \n",
    "<tr>\n",
    "<td>Reversibilidad de la transposición de un producto de matrices,</td><td>$(AB)^T = B^TA^T$</td>\n",
    "</tr>    \n",
    "</table>"
   ]
  }
 ],
 "metadata": {
  "ExecuteTimeLog": [
   {
    "duration": 4426,
    "start_time": "2024-06-25T01:48:20.136Z"
   },
   {
    "duration": 5104,
    "start_time": "2024-06-25T01:48:24.566Z"
   },
   {
    "duration": 1196,
    "start_time": "2024-06-25T01:48:29.673Z"
   },
   {
    "duration": 0,
    "start_time": "2024-06-25T01:48:30.874Z"
   },
   {
    "duration": 0,
    "start_time": "2024-06-25T01:48:30.876Z"
   },
   {
    "duration": 0,
    "start_time": "2024-06-25T01:48:30.878Z"
   },
   {
    "duration": 0,
    "start_time": "2024-06-25T01:48:30.882Z"
   },
   {
    "duration": 0,
    "start_time": "2024-06-25T01:48:30.884Z"
   },
   {
    "duration": 0,
    "start_time": "2024-06-25T01:48:30.886Z"
   },
   {
    "duration": 0,
    "start_time": "2024-06-25T01:48:30.888Z"
   },
   {
    "duration": 0,
    "start_time": "2024-06-25T01:48:30.890Z"
   },
   {
    "duration": 0,
    "start_time": "2024-06-25T01:48:30.893Z"
   },
   {
    "duration": 0,
    "start_time": "2024-06-25T01:48:30.924Z"
   },
   {
    "duration": 0,
    "start_time": "2024-06-25T01:48:30.926Z"
   },
   {
    "duration": 0,
    "start_time": "2024-06-25T01:48:30.927Z"
   },
   {
    "duration": 0,
    "start_time": "2024-06-25T01:48:30.931Z"
   },
   {
    "duration": 0,
    "start_time": "2024-06-25T01:48:30.932Z"
   },
   {
    "duration": 0,
    "start_time": "2024-06-25T01:48:30.935Z"
   },
   {
    "duration": 0,
    "start_time": "2024-06-25T01:48:30.938Z"
   },
   {
    "duration": 0,
    "start_time": "2024-06-25T01:48:30.939Z"
   },
   {
    "duration": 0,
    "start_time": "2024-06-25T01:48:30.941Z"
   },
   {
    "duration": 0,
    "start_time": "2024-06-25T01:48:30.943Z"
   },
   {
    "duration": 0,
    "start_time": "2024-06-25T01:48:30.945Z"
   },
   {
    "duration": 0,
    "start_time": "2024-06-25T01:48:30.947Z"
   },
   {
    "duration": 0,
    "start_time": "2024-06-25T01:48:30.949Z"
   },
   {
    "duration": 1,
    "start_time": "2024-06-25T01:48:30.951Z"
   },
   {
    "duration": 0,
    "start_time": "2024-06-25T01:48:30.954Z"
   },
   {
    "duration": 0,
    "start_time": "2024-06-25T01:48:30.955Z"
   },
   {
    "duration": 0,
    "start_time": "2024-06-25T01:48:30.957Z"
   },
   {
    "duration": 0,
    "start_time": "2024-06-25T01:48:30.960Z"
   },
   {
    "duration": 0,
    "start_time": "2024-06-25T01:48:30.962Z"
   },
   {
    "duration": 0,
    "start_time": "2024-06-25T01:48:31.023Z"
   },
   {
    "duration": 0,
    "start_time": "2024-06-25T01:48:31.026Z"
   },
   {
    "duration": 0,
    "start_time": "2024-06-25T01:48:31.028Z"
   },
   {
    "duration": 0,
    "start_time": "2024-06-25T01:48:31.030Z"
   },
   {
    "duration": 0,
    "start_time": "2024-06-25T01:48:31.032Z"
   },
   {
    "duration": 0,
    "start_time": "2024-06-25T01:48:31.034Z"
   },
   {
    "duration": 17,
    "start_time": "2024-06-25T01:48:52.196Z"
   },
   {
    "duration": 5,
    "start_time": "2024-06-25T01:48:52.217Z"
   },
   {
    "duration": 18,
    "start_time": "2024-06-25T01:48:52.226Z"
   },
   {
    "duration": 15,
    "start_time": "2024-06-25T01:48:52.249Z"
   },
   {
    "duration": 58,
    "start_time": "2024-06-25T01:48:52.269Z"
   },
   {
    "duration": 4,
    "start_time": "2024-06-25T01:48:52.329Z"
   },
   {
    "duration": 30,
    "start_time": "2024-06-25T01:48:52.336Z"
   },
   {
    "duration": 5000,
    "start_time": "2024-06-25T01:48:52.369Z"
   },
   {
    "duration": 4,
    "start_time": "2024-06-25T01:48:57.373Z"
   },
   {
    "duration": 10,
    "start_time": "2024-06-25T01:48:57.380Z"
   },
   {
    "duration": 17,
    "start_time": "2024-06-25T01:48:57.394Z"
   },
   {
    "duration": 15,
    "start_time": "2024-06-25T01:48:57.425Z"
   },
   {
    "duration": 5,
    "start_time": "2024-06-25T01:48:57.446Z"
   },
   {
    "duration": 34,
    "start_time": "2024-06-25T01:48:57.459Z"
   },
   {
    "duration": 32,
    "start_time": "2024-06-25T01:48:57.524Z"
   },
   {
    "duration": 6,
    "start_time": "2024-06-25T01:48:57.559Z"
   },
   {
    "duration": 6,
    "start_time": "2024-06-25T01:48:57.568Z"
   },
   {
    "duration": 5,
    "start_time": "2024-06-25T01:48:57.577Z"
   },
   {
    "duration": 5,
    "start_time": "2024-06-25T01:48:57.624Z"
   },
   {
    "duration": 38,
    "start_time": "2024-06-25T01:48:57.632Z"
   },
   {
    "duration": 10,
    "start_time": "2024-06-25T01:48:57.673Z"
   },
   {
    "duration": 2191,
    "start_time": "2024-06-25T01:48:57.685Z"
   },
   {
    "duration": 24,
    "start_time": "2024-06-25T01:48:59.879Z"
   },
   {
    "duration": 7,
    "start_time": "2024-06-25T01:48:59.924Z"
   },
   {
    "duration": 7,
    "start_time": "2024-06-25T01:48:59.935Z"
   },
   {
    "duration": 78,
    "start_time": "2024-06-25T01:48:59.946Z"
   },
   {
    "duration": 14,
    "start_time": "2024-06-25T01:49:00.028Z"
   },
   {
    "duration": 76,
    "start_time": "2024-06-25T01:49:00.046Z"
   },
   {
    "duration": 8,
    "start_time": "2024-06-25T01:49:00.127Z"
   },
   {
    "duration": 6,
    "start_time": "2024-06-25T01:49:00.137Z"
   },
   {
    "duration": 79,
    "start_time": "2024-06-25T01:49:00.148Z"
   },
   {
    "duration": 13,
    "start_time": "2024-06-25T01:49:00.231Z"
   },
   {
    "duration": 4,
    "start_time": "2024-06-25T01:49:00.247Z"
   },
   {
    "duration": 76,
    "start_time": "2024-06-25T01:49:00.253Z"
   },
   {
    "duration": 100,
    "start_time": "2024-06-25T01:49:00.332Z"
   },
   {
    "duration": 105,
    "start_time": "2024-06-25T01:49:00.435Z"
   },
   {
    "duration": 5,
    "start_time": "2024-06-25T03:31:44.967Z"
   },
   {
    "duration": 8,
    "start_time": "2024-06-25T03:31:54.654Z"
   },
   {
    "duration": 6,
    "start_time": "2024-06-25T03:32:05.071Z"
   },
   {
    "duration": 5,
    "start_time": "2024-06-25T03:52:56.600Z"
   },
   {
    "duration": 8,
    "start_time": "2024-06-25T03:53:03.608Z"
   },
   {
    "duration": 7,
    "start_time": "2024-06-25T03:54:15.507Z"
   },
   {
    "duration": 24,
    "start_time": "2024-06-25T03:54:19.049Z"
   },
   {
    "duration": 23,
    "start_time": "2024-06-25T03:55:47.146Z"
   },
   {
    "duration": 6,
    "start_time": "2024-06-25T03:59:50.979Z"
   },
   {
    "duration": 4,
    "start_time": "2024-06-25T03:59:52.987Z"
   },
   {
    "duration": 4025,
    "start_time": "2024-06-25T04:01:18.171Z"
   },
   {
    "duration": 1699,
    "start_time": "2024-06-25T04:01:22.201Z"
   },
   {
    "duration": 12,
    "start_time": "2024-06-25T04:01:23.903Z"
   },
   {
    "duration": 6,
    "start_time": "2024-06-25T04:01:23.919Z"
   },
   {
    "duration": 19,
    "start_time": "2024-06-25T04:01:23.927Z"
   },
   {
    "duration": 15,
    "start_time": "2024-06-25T04:01:23.949Z"
   },
   {
    "duration": 56,
    "start_time": "2024-06-25T04:01:23.967Z"
   },
   {
    "duration": 4,
    "start_time": "2024-06-25T04:01:24.025Z"
   },
   {
    "duration": 29,
    "start_time": "2024-06-25T04:01:24.032Z"
   },
   {
    "duration": 4911,
    "start_time": "2024-06-25T04:01:24.068Z"
   },
   {
    "duration": 4,
    "start_time": "2024-06-25T04:01:28.983Z"
   },
   {
    "duration": 6,
    "start_time": "2024-06-25T04:01:28.990Z"
   },
   {
    "duration": 22,
    "start_time": "2024-06-25T04:01:29.000Z"
   },
   {
    "duration": 14,
    "start_time": "2024-06-25T04:01:29.025Z"
   },
   {
    "duration": 4,
    "start_time": "2024-06-25T04:01:29.043Z"
   },
   {
    "duration": 35,
    "start_time": "2024-06-25T04:01:29.050Z"
   },
   {
    "duration": 31,
    "start_time": "2024-06-25T04:01:29.122Z"
   },
   {
    "duration": 6,
    "start_time": "2024-06-25T04:01:29.156Z"
   },
   {
    "duration": 8,
    "start_time": "2024-06-25T04:01:29.165Z"
   },
   {
    "duration": 5,
    "start_time": "2024-06-25T04:01:29.177Z"
   },
   {
    "duration": 5,
    "start_time": "2024-06-25T04:01:29.223Z"
   },
   {
    "duration": 37,
    "start_time": "2024-06-25T04:01:29.232Z"
   },
   {
    "duration": 10,
    "start_time": "2024-06-25T04:01:29.272Z"
   },
   {
    "duration": 2022,
    "start_time": "2024-06-25T04:01:29.285Z"
   },
   {
    "duration": 33,
    "start_time": "2024-06-25T04:01:31.310Z"
   },
   {
    "duration": 6,
    "start_time": "2024-06-25T04:01:31.346Z"
   },
   {
    "duration": 5,
    "start_time": "2024-06-25T04:01:31.355Z"
   },
   {
    "duration": 58,
    "start_time": "2024-06-25T04:01:31.367Z"
   },
   {
    "duration": 9,
    "start_time": "2024-06-25T04:01:31.428Z"
   },
   {
    "duration": 6,
    "start_time": "2024-06-25T04:01:31.440Z"
   },
   {
    "duration": 5,
    "start_time": "2024-06-25T04:01:31.524Z"
   },
   {
    "duration": 9,
    "start_time": "2024-06-25T04:01:31.532Z"
   },
   {
    "duration": 6,
    "start_time": "2024-06-25T04:01:31.622Z"
   },
   {
    "duration": 15,
    "start_time": "2024-06-25T04:01:31.631Z"
   },
   {
    "duration": 6,
    "start_time": "2024-06-25T04:01:37.524Z"
   },
   {
    "duration": 5,
    "start_time": "2024-06-25T04:01:38.387Z"
   },
   {
    "duration": 7,
    "start_time": "2024-06-25T04:01:39.818Z"
   },
   {
    "duration": 6,
    "start_time": "2024-06-25T04:01:40.747Z"
   },
   {
    "duration": 643,
    "start_time": "2024-06-25T04:02:59.917Z"
   },
   {
    "duration": 201,
    "start_time": "2024-06-25T04:03:30.245Z"
   },
   {
    "duration": 10,
    "start_time": "2024-06-25T04:07:19.286Z"
   },
   {
    "duration": 55,
    "start_time": "2024-06-25T04:07:38.087Z"
   },
   {
    "duration": 4033,
    "start_time": "2024-06-25T04:08:34.186Z"
   },
   {
    "duration": 7,
    "start_time": "2024-06-25T04:08:38.224Z"
   },
   {
    "duration": 26,
    "start_time": "2024-06-25T04:08:38.233Z"
   },
   {
    "duration": 5,
    "start_time": "2024-06-25T04:08:38.263Z"
   },
   {
    "duration": 15,
    "start_time": "2024-06-25T04:08:38.271Z"
   },
   {
    "duration": 34,
    "start_time": "2024-06-25T04:08:38.290Z"
   },
   {
    "duration": 22,
    "start_time": "2024-06-25T04:08:38.327Z"
   },
   {
    "duration": 6,
    "start_time": "2024-06-25T04:08:38.352Z"
   },
   {
    "duration": 29,
    "start_time": "2024-06-25T04:08:38.361Z"
   },
   {
    "duration": 5033,
    "start_time": "2024-06-25T04:08:38.422Z"
   },
   {
    "duration": 4,
    "start_time": "2024-06-25T04:08:43.458Z"
   },
   {
    "duration": 8,
    "start_time": "2024-06-25T04:08:43.465Z"
   },
   {
    "duration": 20,
    "start_time": "2024-06-25T04:08:43.476Z"
   },
   {
    "duration": 41,
    "start_time": "2024-06-25T04:08:43.498Z"
   },
   {
    "duration": 9,
    "start_time": "2024-06-25T04:08:43.542Z"
   },
   {
    "duration": 32,
    "start_time": "2024-06-25T04:08:43.553Z"
   },
   {
    "duration": 62,
    "start_time": "2024-06-25T04:08:43.588Z"
   },
   {
    "duration": 10,
    "start_time": "2024-06-25T04:08:43.652Z"
   },
   {
    "duration": 7,
    "start_time": "2024-06-25T04:08:43.668Z"
   },
   {
    "duration": 7,
    "start_time": "2024-06-25T04:08:43.679Z"
   },
   {
    "duration": 6,
    "start_time": "2024-06-25T04:08:43.689Z"
   },
   {
    "duration": 48,
    "start_time": "2024-06-25T04:08:43.725Z"
   },
   {
    "duration": 10,
    "start_time": "2024-06-25T04:08:43.776Z"
   },
   {
    "duration": 1686,
    "start_time": "2024-06-25T04:08:43.790Z"
   },
   {
    "duration": 23,
    "start_time": "2024-06-25T04:08:45.481Z"
   },
   {
    "duration": 22,
    "start_time": "2024-06-25T04:08:45.507Z"
   },
   {
    "duration": 8,
    "start_time": "2024-06-25T04:08:45.534Z"
   },
   {
    "duration": 25,
    "start_time": "2024-06-25T04:08:45.548Z"
   },
   {
    "duration": 10,
    "start_time": "2024-06-25T04:08:45.622Z"
   },
   {
    "duration": 13,
    "start_time": "2024-06-25T04:08:45.634Z"
   },
   {
    "duration": 74,
    "start_time": "2024-06-25T04:08:45.648Z"
   },
   {
    "duration": 5,
    "start_time": "2024-06-25T04:08:45.724Z"
   },
   {
    "duration": 9,
    "start_time": "2024-06-25T04:08:45.732Z"
   },
   {
    "duration": 82,
    "start_time": "2024-06-25T04:08:45.744Z"
   },
   {
    "duration": 7,
    "start_time": "2024-06-25T04:08:45.831Z"
   },
   {
    "duration": 14,
    "start_time": "2024-06-25T04:08:45.841Z"
   },
   {
    "duration": 103,
    "start_time": "2024-06-25T04:08:45.863Z"
   },
   {
    "duration": 9,
    "start_time": "2024-06-25T04:08:49.174Z"
   },
   {
    "duration": 5,
    "start_time": "2024-06-25T04:08:51.270Z"
   },
   {
    "duration": 5,
    "start_time": "2024-06-25T04:08:53.065Z"
   },
   {
    "duration": 6,
    "start_time": "2024-06-25T04:08:53.606Z"
   },
   {
    "duration": 8,
    "start_time": "2024-06-25T04:08:54.270Z"
   },
   {
    "duration": 162,
    "start_time": "2024-06-25T04:08:56.166Z"
   },
   {
    "duration": 11,
    "start_time": "2024-06-25T04:09:15.265Z"
   },
   {
    "duration": 4051,
    "start_time": "2024-06-25T04:09:24.739Z"
   },
   {
    "duration": 5,
    "start_time": "2024-06-25T04:09:28.794Z"
   },
   {
    "duration": 10,
    "start_time": "2024-06-25T04:09:28.803Z"
   },
   {
    "duration": 5,
    "start_time": "2024-06-25T04:09:28.816Z"
   },
   {
    "duration": 28,
    "start_time": "2024-06-25T04:09:28.830Z"
   },
   {
    "duration": 17,
    "start_time": "2024-06-25T04:09:28.861Z"
   },
   {
    "duration": 15,
    "start_time": "2024-06-25T04:09:28.881Z"
   },
   {
    "duration": 3,
    "start_time": "2024-06-25T04:09:28.899Z"
   },
   {
    "duration": 54,
    "start_time": "2024-06-25T04:09:28.905Z"
   },
   {
    "duration": 5092,
    "start_time": "2024-06-25T04:09:28.962Z"
   },
   {
    "duration": 4,
    "start_time": "2024-06-25T04:09:34.057Z"
   },
   {
    "duration": 7,
    "start_time": "2024-06-25T04:09:34.064Z"
   },
   {
    "duration": 15,
    "start_time": "2024-06-25T04:09:34.075Z"
   },
   {
    "duration": 14,
    "start_time": "2024-06-25T04:09:34.125Z"
   },
   {
    "duration": 10,
    "start_time": "2024-06-25T04:09:34.142Z"
   },
   {
    "duration": 33,
    "start_time": "2024-06-25T04:09:34.156Z"
   },
   {
    "duration": 57,
    "start_time": "2024-06-25T04:09:34.192Z"
   },
   {
    "duration": 10,
    "start_time": "2024-06-25T04:09:34.252Z"
   },
   {
    "duration": 8,
    "start_time": "2024-06-25T04:09:34.264Z"
   },
   {
    "duration": 5,
    "start_time": "2024-06-25T04:09:34.275Z"
   },
   {
    "duration": 5,
    "start_time": "2024-06-25T04:09:34.283Z"
   },
   {
    "duration": 40,
    "start_time": "2024-06-25T04:09:34.323Z"
   },
   {
    "duration": 8,
    "start_time": "2024-06-25T04:09:34.366Z"
   },
   {
    "duration": 1801,
    "start_time": "2024-06-25T04:09:34.379Z"
   },
   {
    "duration": 46,
    "start_time": "2024-06-25T04:09:36.184Z"
   },
   {
    "duration": 8,
    "start_time": "2024-06-25T04:09:36.232Z"
   },
   {
    "duration": 6,
    "start_time": "2024-06-25T04:09:36.243Z"
   },
   {
    "duration": 13,
    "start_time": "2024-06-25T04:09:36.252Z"
   },
   {
    "duration": 15,
    "start_time": "2024-06-25T04:09:36.268Z"
   },
   {
    "duration": 5,
    "start_time": "2024-06-25T04:09:36.328Z"
   },
   {
    "duration": 4,
    "start_time": "2024-06-25T04:09:36.337Z"
   },
   {
    "duration": 6,
    "start_time": "2024-06-25T04:09:36.346Z"
   },
   {
    "duration": 9,
    "start_time": "2024-06-25T04:09:36.355Z"
   },
   {
    "duration": 62,
    "start_time": "2024-06-25T04:09:36.368Z"
   },
   {
    "duration": 10,
    "start_time": "2024-06-25T04:09:36.433Z"
   },
   {
    "duration": 8,
    "start_time": "2024-06-25T04:09:36.447Z"
   },
   {
    "duration": 6,
    "start_time": "2024-06-25T04:09:36.459Z"
   },
   {
    "duration": 18,
    "start_time": "2024-06-25T04:09:39.784Z"
   },
   {
    "duration": 174,
    "start_time": "2024-06-25T04:09:50.055Z"
   },
   {
    "duration": 16,
    "start_time": "2024-06-25T04:09:56.123Z"
   },
   {
    "duration": 37652,
    "start_time": "2024-06-25T04:09:59.014Z"
   },
   {
    "duration": 36,
    "start_time": "2024-06-25T04:10:36.670Z"
   },
   {
    "duration": 4,
    "start_time": "2024-06-25T04:11:11.984Z"
   },
   {
    "duration": 9,
    "start_time": "2024-06-25T04:11:12.664Z"
   },
   {
    "duration": 18,
    "start_time": "2024-06-25T04:11:13.344Z"
   },
   {
    "duration": 8,
    "start_time": "2024-06-25T04:11:15.640Z"
   },
   {
    "duration": 105,
    "start_time": "2024-06-25T04:11:18.320Z"
   },
   {
    "duration": 4004,
    "start_time": "2024-06-25T04:12:39.300Z"
   },
   {
    "duration": 1593,
    "start_time": "2024-06-25T04:12:43.308Z"
   },
   {
    "duration": 23,
    "start_time": "2024-06-25T04:12:44.904Z"
   },
   {
    "duration": 5,
    "start_time": "2024-06-25T04:12:44.931Z"
   },
   {
    "duration": 25,
    "start_time": "2024-06-25T04:12:44.939Z"
   },
   {
    "duration": 15,
    "start_time": "2024-06-25T04:12:44.967Z"
   },
   {
    "duration": 46,
    "start_time": "2024-06-25T04:12:44.985Z"
   },
   {
    "duration": 4,
    "start_time": "2024-06-25T04:12:45.034Z"
   },
   {
    "duration": 30,
    "start_time": "2024-06-25T04:12:45.040Z"
   },
   {
    "duration": 4970,
    "start_time": "2024-06-25T04:12:45.077Z"
   },
   {
    "duration": 5,
    "start_time": "2024-06-25T04:12:50.050Z"
   },
   {
    "duration": 7,
    "start_time": "2024-06-25T04:12:50.059Z"
   },
   {
    "duration": 16,
    "start_time": "2024-06-25T04:12:50.069Z"
   },
   {
    "duration": 38,
    "start_time": "2024-06-25T04:12:50.088Z"
   },
   {
    "duration": 10,
    "start_time": "2024-06-25T04:12:50.129Z"
   },
   {
    "duration": 33,
    "start_time": "2024-06-25T04:12:50.142Z"
   },
   {
    "duration": 67,
    "start_time": "2024-06-25T04:12:50.178Z"
   },
   {
    "duration": 6,
    "start_time": "2024-06-25T04:12:50.248Z"
   },
   {
    "duration": 8,
    "start_time": "2024-06-25T04:12:50.256Z"
   },
   {
    "duration": 5,
    "start_time": "2024-06-25T04:12:50.267Z"
   },
   {
    "duration": 8,
    "start_time": "2024-06-25T04:12:50.275Z"
   },
   {
    "duration": 40,
    "start_time": "2024-06-25T04:12:50.324Z"
   },
   {
    "duration": 10,
    "start_time": "2024-06-25T04:12:50.368Z"
   },
   {
    "duration": 1878,
    "start_time": "2024-06-25T04:12:50.381Z"
   },
   {
    "duration": 26,
    "start_time": "2024-06-25T04:12:52.262Z"
   },
   {
    "duration": 6,
    "start_time": "2024-06-25T04:12:52.291Z"
   },
   {
    "duration": 5,
    "start_time": "2024-06-25T04:12:52.324Z"
   },
   {
    "duration": 15,
    "start_time": "2024-06-25T04:12:52.336Z"
   },
   {
    "duration": 70,
    "start_time": "2024-06-25T04:12:52.356Z"
   },
   {
    "duration": 6,
    "start_time": "2024-06-25T04:12:52.429Z"
   },
   {
    "duration": 4,
    "start_time": "2024-06-25T04:12:52.438Z"
   },
   {
    "duration": 80,
    "start_time": "2024-06-25T04:12:52.445Z"
   },
   {
    "duration": 9,
    "start_time": "2024-06-25T04:12:52.529Z"
   },
   {
    "duration": 88,
    "start_time": "2024-06-25T04:12:52.542Z"
   },
   {
    "duration": 5,
    "start_time": "2024-06-25T04:12:52.633Z"
   },
   {
    "duration": 81,
    "start_time": "2024-06-25T04:12:52.641Z"
   },
   {
    "duration": 631,
    "start_time": "2024-06-25T04:13:13.671Z"
   },
   {
    "duration": 24,
    "start_time": "2024-06-25T04:13:33.328Z"
   },
   {
    "duration": 334,
    "start_time": "2024-06-25T04:14:49.549Z"
   },
   {
    "duration": 5,
    "start_time": "2024-06-25T04:14:58.672Z"
   },
   {
    "duration": 5,
    "start_time": "2024-06-25T04:15:02.802Z"
   },
   {
    "duration": 25,
    "start_time": "2024-06-25T04:15:11.305Z"
   },
   {
    "duration": 38,
    "start_time": "2024-06-25T04:15:16.166Z"
   },
   {
    "duration": 24,
    "start_time": "2024-06-25T04:15:39.353Z"
   },
   {
    "duration": 25,
    "start_time": "2024-06-25T04:15:43.544Z"
   }
  ],
  "kernelspec": {
   "display_name": "Python 3 (ipykernel)",
   "language": "python",
   "name": "python3"
  },
  "language_info": {
   "codemirror_mode": {
    "name": "ipython",
    "version": 3
   },
   "file_extension": ".py",
   "mimetype": "text/x-python",
   "name": "python",
   "nbconvert_exporter": "python",
   "pygments_lexer": "ipython3",
   "version": "3.11.7"
  },
  "toc": {
   "base_numbering": 1,
   "nav_menu": {},
   "number_sections": true,
   "sideBar": true,
   "skip_h1_title": true,
   "title_cell": "Table of Contents",
   "title_sidebar": "Contents",
   "toc_cell": false,
   "toc_position": {},
   "toc_section_display": true,
   "toc_window_display": false
  }
 },
 "nbformat": 4,
 "nbformat_minor": 4
}
